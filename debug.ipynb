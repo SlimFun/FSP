{
 "cells": [
  {
   "cell_type": "code",
   "execution_count": 1,
   "id": "cc456178",
   "metadata": {},
   "outputs": [
    {
     "name": "stderr",
     "output_type": "stream",
     "text": [
      "/home/fw/anaconda3/envs/fedml/lib/python3.7/importlib/_bootstrap.py:219: RuntimeWarning: greenlet.greenlet size changed, may indicate binary incompatibility. Expected 144 from C header, got 152 from PyObject\n",
      "  return f(*args, **kwds)\n",
      "/home/fw/anaconda3/envs/fedml/lib/python3.7/importlib/_bootstrap.py:219: RuntimeWarning: greenlet.greenlet size changed, may indicate binary incompatibility. Expected 144 from C header, got 152 from PyObject\n",
      "  return f(*args, **kwds)\n",
      "/home/fw/anaconda3/envs/fedml/lib/python3.7/importlib/_bootstrap.py:219: RuntimeWarning: greenlet.greenlet size changed, may indicate binary incompatibility. Expected 144 from C header, got 152 from PyObject\n",
      "  return f(*args, **kwds)\n",
      "/home/fw/anaconda3/envs/fedml/lib/python3.7/importlib/_bootstrap.py:219: RuntimeWarning: greenlet.greenlet size changed, may indicate binary incompatibility. Expected 144 from C header, got 152 from PyObject\n",
      "  return f(*args, **kwds)\n"
     ]
    }
   ],
   "source": [
    "from scipy import test\n",
    "import torch\n",
    "import torch.cuda\n",
    "from torch import nn\n",
    "from torch.nn import functional as F\n",
    "import argparse\n",
    "import gc\n",
    "import itertools\n",
    "import numpy as np\n",
    "import os\n",
    "import sys\n",
    "import time\n",
    "import pickle\n",
    "from copy import deepcopy\n",
    "\n",
    "from tqdm import tqdm\n",
    "import warnings\n",
    "import copy\n",
    "\n",
    "import wandb\n",
    "\n",
    "from datasets import get_dataset\n",
    "from models.models import all_models\n",
    "\n",
    "from client import Client\n",
    "from utils import *\n",
    "\n",
    "import fedsnip as fedsnip_obj\n",
    "\n",
    "rng = np.random.default_rng()\n",
    "\n",
    "def device_list(x):\n",
    "    if x == 'cpu':\n",
    "        return [x]\n",
    "    return [int(y) for y in x.split(',')]"
   ]
  },
  {
   "cell_type": "code",
   "execution_count": 2,
   "id": "4b2442c7",
   "metadata": {},
   "outputs": [
    {
     "data": {
      "text/plain": [
       "_StoreAction(option_strings=['--pruning_steps_decay_mode'], dest='pruning_steps_decay_mode', nargs=None, const=None, default='linear', type=<class 'str'>, choices=('linear', 'exp'), help='pruning steps decay mode', metavar=None)"
      ]
     },
     "execution_count": 2,
     "metadata": {},
     "output_type": "execute_result"
    }
   ],
   "source": [
    "parser = argparse.ArgumentParser()\n",
    "parser.add_argument('--eta', type=float, help='learning rate', default=0.01)\n",
    "parser.add_argument('--clients', type=int, help='number of clients per round', default=20)\n",
    "parser.add_argument('--rounds', type=int, help='number of global rounds', default=400)\n",
    "parser.add_argument('--epochs', type=int, help='number of local epochs', default=10)\n",
    "parser.add_argument('--dataset', type=str, choices=('mnist', 'emnist', 'cifar10', 'cifar100'),\n",
    "                    default='mnist', help='Dataset to use')\n",
    "parser.add_argument('--distribution', type=str, choices=('dirichlet', 'lotteryfl', 'iid', 'classic_iid'), default='dirichlet',\n",
    "                    help='how should the dataset be distributed?')\n",
    "parser.add_argument('--beta', type=float, default=0.1, help='Beta parameter (unbalance rate) for Dirichlet distribution')\n",
    "parser.add_argument('--total-clients', type=int, help='split the dataset between this many clients. Ignored for EMNIST.', default=400)\n",
    "parser.add_argument('--min-samples', type=int, default=0, help='minimum number of samples required to allow a client to participate')\n",
    "parser.add_argument('--samples-per-client', type=int, default=20, help='samples to allocate to each client (per class, for lotteryfl, or per client, for iid)')\n",
    "parser.add_argument('--prox', type=float, default=0, help='coefficient to proximal term (i.e. in FedProx)')\n",
    "\n",
    "parser.add_argument('--batch-size', type=int, default=32,\n",
    "                    help='local client batch size')\n",
    "parser.add_argument('--l2', default=1e-5, type=float, help='L2 regularization strength')\n",
    "parser.add_argument('--momentum', default=0.9, type=float, help='Local client SGD momentum parameter')\n",
    "parser.add_argument('--cache-test-set', default=False, action='store_true', help='Load test sets into memory')\n",
    "parser.add_argument('--cache-test-set-gpu', default=False, action='store_true', help='Load test sets into GPU memory')\n",
    "parser.add_argument('--test-batches', default=0, type=int, help='Number of minibatches to test on, or 0 for all of them')\n",
    "parser.add_argument('--eval-every', default=1, type=int, help='Evaluate on test set every N rounds')\n",
    "parser.add_argument('--device', default='0', type=device_list, help='Device to use for compute. Use \"cpu\" to force CPU. Otherwise, separate with commas to allow multi-GPU.')\n",
    "parser.add_argument('--no-eval', default=True, action='store_false', dest='eval')\n",
    "parser.add_argument('-o', '--outfile', default='output.log', type=argparse.FileType('a', encoding='ascii'))\n",
    "\n",
    "parser.add_argument('--clip_grad', default=False, action='store_true', dest='clip_grad')\n",
    "\n",
    "parser.add_argument('--model', type=str, choices=('VGG11_BN', 'VGG_SNIP', 'CNNNet', 'CIFAR10Net'),\n",
    "                    default='VGG11_BN', help='Dataset to use')\n",
    "\n",
    "parser.add_argument('--prune_strategy', type=str, choices=('None', 'SNIP', 'SNAP', 'random_masks', 'Iter-SNIP'),\n",
    "                    default='None', help='Dataset to use')\n",
    "parser.add_argument('--prune_at_first_round', default=False, action='store_true', dest='prune_at_first_round')\n",
    "parser.add_argument('--keep_ratio', type=float, default=0.0,\n",
    "                    help='local client batch size')         \n",
    "parser.add_argument('--prune_vote', type=int, default=1,\n",
    "                    help='local client batch size')\n",
    "\n",
    "parser.add_argument('--single_shot_pruning', default=False, action='store_true', dest='single_shot_pruning')\n",
    "\n",
    "parser.add_argument('--partition_method', type=str, default='homo', metavar='N',\n",
    "                        help='how to partition the dataset on local workers')\n",
    "\n",
    "parser.add_argument('--partition_alpha', type=float, default=0.5, metavar='PA',\n",
    "                    help='partition alpha (default: 0.5)')\n",
    "\n",
    "parser.add_argument('--target_keep_ratio', default=0.1, type=float, help='server target keep ratio')\n",
    "\n",
    "parser.add_argument('--num_pruning_steps', type=int, help='total number of pruning steps')\n",
    "parser.add_argument('--pruning_steps_decay_mode', type=str, default='linear', choices=('linear', 'exp'), help='pruning steps decay mode')"
   ]
  },
  {
   "cell_type": "code",
   "execution_count": 3,
   "id": "70641184",
   "metadata": {},
   "outputs": [],
   "source": [
    "args = parser.parse_args(args=['--dataset', 'cifar10', \n",
    "                               '--eta', '0.01', \n",
    "                               '--device', '3', \n",
    "                               '--distribution', 'classic_iid', \n",
    "                               '--total-clients', '10', \n",
    "                               '--clients', '10', \n",
    "                               '--batch-size', '64', \n",
    "                               '--rounds', '100', \n",
    "                               '--model', 'CNNNet', \n",
    "                               '--prune_strategy', 'Iter-SNIP',\n",
    "                               '--epochs', '2',\n",
    "                               '--keep_ratio', '0.1',\n",
    "                               '--prune_vote', '1',\n",
    "                               '--prune_at_first_round',\n",
    "                               '--single_shot_pruning',\n",
    "                               '--partition_method', 'hetero',\n",
    "                               '--partition_alpha', '0.5',\n",
    "                               '--target_keep_ratio', '0.2',\n",
    "                               '--num_pruning_steps', '2',\n",
    "                               '--pruning_steps_decay_mode', 'linear'])"
   ]
  },
  {
   "cell_type": "code",
   "execution_count": null,
   "id": "62671b88",
   "metadata": {},
   "outputs": [],
   "source": []
  },
  {
   "cell_type": "code",
   "execution_count": 4,
   "id": "ddbb79b6",
   "metadata": {},
   "outputs": [
    {
     "name": "stderr",
     "output_type": "stream",
     "text": [
      "Fetching dataset...\n",
      "INFO:root:*********partition data***************\n"
     ]
    },
    {
     "name": "stdout",
     "output_type": "stream",
     "text": [
      "Files already downloaded and verified\n",
      "Files already downloaded and verified\n"
     ]
    },
    {
     "name": "stderr",
     "output_type": "stream",
     "text": [
      "INFO:root:N = 50000\n",
      "INFO:root:traindata_cls_counts = {0: {0: 953, 1: 142, 2: 141, 3: 75, 4: 695, 5: 819, 7: 2482}, 1: {0: 16, 1: 43, 2: 902, 3: 1650, 4: 86, 5: 182, 7: 693, 8: 110, 9: 6}, 2: {0: 9, 1: 8, 2: 290, 3: 769, 4: 841, 5: 283, 6: 119, 7: 1044, 8: 1014, 9: 58}, 3: {0: 395, 1: 1200, 2: 48, 3: 68, 4: 896, 5: 681, 6: 90, 7: 17, 8: 1351, 9: 301}, 4: {0: 504, 1: 2917, 2: 570, 3: 721, 4: 121, 5: 356}, 5: {0: 1262, 1: 71, 2: 325, 3: 119, 4: 1560, 5: 14, 6: 1, 7: 85, 8: 366}, 6: {0: 9, 1: 273, 2: 1657, 3: 40, 4: 1, 5: 130, 6: 1911, 7: 21, 8: 1160}, 7: {0: 722, 1: 3, 2: 281, 3: 738, 4: 22, 5: 974, 6: 624, 7: 1, 8: 82, 9: 878}, 8: {0: 1127, 1: 153, 2: 680, 3: 500, 4: 698, 5: 1139, 6: 92, 7: 23, 8: 1, 9: 3665}, 9: {0: 3, 1: 190, 2: 106, 3: 320, 4: 80, 5: 422, 6: 2163, 7: 634, 8: 916, 9: 92}}\n"
     ]
    },
    {
     "name": "stdout",
     "output_type": "stream",
     "text": [
      "10000******************\n",
      "Files already downloaded and verified\n",
      "Files already downloaded and verified\n"
     ]
    },
    {
     "name": "stderr",
     "output_type": "stream",
     "text": [
      "INFO:root:seed: 0!!!!!!!\n",
      "INFO:root:train_dl_global number = 782\n",
      "INFO:root:test_dl_global number = 157\n",
      "INFO:root:client_idx = 0, local_sample_number = 5307\n"
     ]
    },
    {
     "name": "stdout",
     "output_type": "stream",
     "text": [
      "Files already downloaded and verified\n",
      "Files already downloaded and verified\n"
     ]
    },
    {
     "name": "stderr",
     "output_type": "stream",
     "text": [
      "INFO:root:seed: 0!!!!!!!\n",
      "INFO:root:client_idx = 0, batch_num_train_local = 83, batch_num_test_local = 16\n",
      "INFO:root:client_idx = 1, local_sample_number = 3688\n"
     ]
    },
    {
     "name": "stdout",
     "output_type": "stream",
     "text": [
      "Files already downloaded and verified\n",
      "Files already downloaded and verified\n"
     ]
    },
    {
     "name": "stderr",
     "output_type": "stream",
     "text": [
      "INFO:root:seed: 0!!!!!!!\n",
      "INFO:root:client_idx = 1, batch_num_train_local = 58, batch_num_test_local = 16\n",
      "INFO:root:client_idx = 2, local_sample_number = 4435\n"
     ]
    },
    {
     "name": "stdout",
     "output_type": "stream",
     "text": [
      "Files already downloaded and verified\n",
      "Files already downloaded and verified\n"
     ]
    },
    {
     "name": "stderr",
     "output_type": "stream",
     "text": [
      "INFO:root:seed: 0!!!!!!!\n",
      "INFO:root:client_idx = 2, batch_num_train_local = 70, batch_num_test_local = 16\n",
      "INFO:root:client_idx = 3, local_sample_number = 5047\n"
     ]
    },
    {
     "name": "stdout",
     "output_type": "stream",
     "text": [
      "Files already downloaded and verified\n",
      "Files already downloaded and verified\n"
     ]
    },
    {
     "name": "stderr",
     "output_type": "stream",
     "text": [
      "INFO:root:seed: 0!!!!!!!\n",
      "INFO:root:client_idx = 3, batch_num_train_local = 79, batch_num_test_local = 16\n",
      "INFO:root:client_idx = 4, local_sample_number = 5189\n"
     ]
    },
    {
     "name": "stdout",
     "output_type": "stream",
     "text": [
      "Files already downloaded and verified\n",
      "Files already downloaded and verified\n"
     ]
    },
    {
     "name": "stderr",
     "output_type": "stream",
     "text": [
      "INFO:root:seed: 0!!!!!!!\n",
      "INFO:root:client_idx = 4, batch_num_train_local = 82, batch_num_test_local = 16\n",
      "INFO:root:client_idx = 5, local_sample_number = 3803\n"
     ]
    },
    {
     "name": "stdout",
     "output_type": "stream",
     "text": [
      "Files already downloaded and verified\n",
      "Files already downloaded and verified\n"
     ]
    },
    {
     "name": "stderr",
     "output_type": "stream",
     "text": [
      "INFO:root:seed: 0!!!!!!!\n",
      "INFO:root:client_idx = 5, batch_num_train_local = 60, batch_num_test_local = 16\n",
      "INFO:root:client_idx = 6, local_sample_number = 5202\n"
     ]
    },
    {
     "name": "stdout",
     "output_type": "stream",
     "text": [
      "Files already downloaded and verified\n",
      "Files already downloaded and verified\n"
     ]
    },
    {
     "name": "stderr",
     "output_type": "stream",
     "text": [
      "INFO:root:seed: 0!!!!!!!\n",
      "INFO:root:client_idx = 6, batch_num_train_local = 82, batch_num_test_local = 16\n",
      "INFO:root:client_idx = 7, local_sample_number = 4325\n"
     ]
    },
    {
     "name": "stdout",
     "output_type": "stream",
     "text": [
      "Files already downloaded and verified\n",
      "Files already downloaded and verified\n"
     ]
    },
    {
     "name": "stderr",
     "output_type": "stream",
     "text": [
      "INFO:root:seed: 0!!!!!!!\n",
      "INFO:root:client_idx = 7, batch_num_train_local = 68, batch_num_test_local = 16\n",
      "INFO:root:client_idx = 8, local_sample_number = 8078\n"
     ]
    },
    {
     "name": "stdout",
     "output_type": "stream",
     "text": [
      "Files already downloaded and verified\n",
      "Files already downloaded and verified\n"
     ]
    },
    {
     "name": "stderr",
     "output_type": "stream",
     "text": [
      "INFO:root:seed: 0!!!!!!!\n",
      "INFO:root:client_idx = 8, batch_num_train_local = 127, batch_num_test_local = 16\n",
      "INFO:root:client_idx = 9, local_sample_number = 4926\n"
     ]
    },
    {
     "name": "stdout",
     "output_type": "stream",
     "text": [
      "Files already downloaded and verified\n",
      "Files already downloaded and verified\n"
     ]
    },
    {
     "name": "stderr",
     "output_type": "stream",
     "text": [
      "INFO:root:seed: 0!!!!!!!\n",
      "INFO:root:client_idx = 9, batch_num_train_local = 77, batch_num_test_local = 16\n",
      "Initializing clients...\n",
      "ERROR:wandb.jupyter:Failed to detect the name of this notebook, you can set it manually with the WANDB_NOTEBOOK_NAME environment variable to enable code saving.\n",
      "\u001b[34m\u001b[1mwandb\u001b[0m: Currently logged in as: \u001b[33mslimfun\u001b[0m (use `wandb login --relogin` to force relogin)\n",
      "\u001b[34m\u001b[1mwandb\u001b[0m: wandb version 0.13.3 is available!  To upgrade, please run:\n",
      "\u001b[34m\u001b[1mwandb\u001b[0m:  $ pip install wandb --upgrade\n"
     ]
    },
    {
     "data": {
      "text/html": [
       "\n",
       "                    Syncing run <strong><a href=\"https://wandb.ai/slimfun/fedsnip/runs/3pvt1226\" target=\"_blank\">FedAVG(d)Iter-SNIP-target_kr0.2-0.1-classic_iid-prune_at_1rTrue-single_shot_pruningTrue-lr0.01-clip_gradFalse</a></strong> to <a href=\"https://wandb.ai/slimfun/fedsnip\" target=\"_blank\">Weights & Biases</a> (<a href=\"https://docs.wandb.com/integrations/jupyter.html\" target=\"_blank\">docs</a>).<br/>\n",
       "\n",
       "                "
      ],
      "text/plain": [
       "<IPython.core.display.HTML object>"
      ]
     },
     "metadata": {},
     "output_type": "display_data"
    },
    {
     "name": "stdout",
     "output_type": "stream",
     "text": [
      "server model param size: 69007680\n",
      "keep_ratio_steps: [0.6, 0.19999999999999996]\n",
      "client: 9 **************\n",
      "No post init specified in SNIP\n",
      "client: 0 **************\n",
      "No post init specified in SNIP\n",
      "client: 2 **************\n",
      "No post init specified in SNIP\n",
      "client: 8 **************\n",
      "No post init specified in SNIP\n",
      "client: 6 **************\n",
      "No post init specified in SNIP\n",
      "client: 5 **************\n",
      "No post init specified in SNIP\n",
      "client: 4 **************\n",
      "No post init specified in SNIP\n",
      "client: 7 **************\n",
      "No post init specified in SNIP\n",
      "client: 3 **************\n",
      "No post init specified in SNIP\n",
      "client: 1 **************\n",
      "No post init specified in SNIP\n",
      "merge local masks\n",
      "server masked 40.000009276988614% params\n",
      "client: 7 **************\n",
      "No post init specified in SNIP\n",
      "client: 6 **************\n",
      "No post init specified in SNIP\n",
      "client: 0 **************\n",
      "No post init specified in SNIP\n",
      "client: 3 **************\n",
      "No post init specified in SNIP\n",
      "client: 4 **************\n",
      "No post init specified in SNIP\n",
      "client: 1 **************\n",
      "No post init specified in SNIP\n",
      "client: 8 **************\n",
      "No post init specified in SNIP\n",
      "client: 9 **************\n",
      "No post init specified in SNIP\n",
      "client: 2 **************\n",
      "No post init specified in SNIP\n",
      "client: 5 **************\n",
      "No post init specified in SNIP\n",
      "merge local masks\n",
      "server masked 80.00001855397723% params\n",
      "torch.Size([32, 3, 5, 5])\n",
      "torch.Size([64, 32, 5, 5])\n",
      "torch.Size([512, 4096])\n",
      "torch.Size([10, 512])\n",
      "layer.shape: torch.Size([32, 3, 5, 5]); mask.shape: torch.Size([32, 3, 5, 5])\n",
      "layer.shape: torch.Size([64, 32, 5, 5]); mask.shape: torch.Size([64, 32, 5, 5])\n",
      "layer.shape: torch.Size([512, 4096]); mask.shape: torch.Size([512, 4096])\n",
      "layer.shape: torch.Size([10, 512]); mask.shape: torch.Size([10, 512])\n",
      "**********test before train*************\n",
      "global model zero params: 0.7997709240478741\n",
      "Test client 2: Accuracy: 0.22863586246967316; Loss: 2.2954938411712646; Total: 4435.0;\n",
      "accuracy: 0.22863586246967316; loss: 2.2954938411712646\n",
      "**********test before train*************\n",
      "running loss: 2.140628789152418\n",
      "running loss: 1.949694858278547\n",
      "total: 0.0; time: 2.185579299926758\n",
      "client 2 finish params zeros: 0.7997709240478741\n",
      "dl_cost: 13801523.196330769; ul_cost: 13801523.196330769\n",
      "torch.Size([32, 3, 5, 5])\n",
      "torch.Size([64, 32, 5, 5])\n",
      "torch.Size([512, 4096])\n",
      "torch.Size([10, 512])\n",
      "layer.shape: torch.Size([32, 3, 5, 5]); mask.shape: torch.Size([32, 3, 5, 5])\n",
      "layer.shape: torch.Size([64, 32, 5, 5]); mask.shape: torch.Size([64, 32, 5, 5])\n",
      "layer.shape: torch.Size([512, 4096]); mask.shape: torch.Size([512, 4096])\n",
      "layer.shape: torch.Size([10, 512]); mask.shape: torch.Size([10, 512])\n",
      "**********test before train*************\n",
      "global model zero params: 0.7997709240478741\n",
      "Test client 4: Accuracy: 0.0; Loss: 2.318826675415039; Total: 5189.0;\n",
      "accuracy: 0.0; loss: 2.318826675415039\n",
      "**********test before train*************\n",
      "running loss: 1.8112334812559732\n",
      "running loss: 1.4850135460132505\n",
      "total: 0.0; time: 2.175233840942383\n",
      "client 4 finish params zeros: 0.7997709240478741\n",
      "dl_cost: 13801523.196330769; ul_cost: 13801523.196330769\n",
      "torch.Size([32, 3, 5, 5])\n",
      "torch.Size([64, 32, 5, 5])\n",
      "torch.Size([512, 4096])\n",
      "torch.Size([10, 512])\n",
      "layer.shape: torch.Size([32, 3, 5, 5]); mask.shape: torch.Size([32, 3, 5, 5])\n",
      "layer.shape: torch.Size([64, 32, 5, 5]); mask.shape: torch.Size([64, 32, 5, 5])\n",
      "layer.shape: torch.Size([512, 4096]); mask.shape: torch.Size([512, 4096])\n",
      "layer.shape: torch.Size([10, 512]); mask.shape: torch.Size([10, 512])\n",
      "**********test before train*************\n",
      "global model zero params: 0.7997709240478741\n",
      "Test client 0: Accuracy: 0.0; Loss: 2.3003897666931152; Total: 5307.0;\n",
      "accuracy: 0.0; loss: 2.3003897666931152\n",
      "**********test before train*************\n",
      "running loss: 1.909237219626645\n",
      "running loss: 1.6072937896452755\n",
      "total: 0.0; time: 2.217158794403076\n",
      "client 0 finish params zeros: 0.7997709240478741\n",
      "dl_cost: 13801523.196330769; ul_cost: 13801523.196330769\n",
      "torch.Size([32, 3, 5, 5])\n",
      "torch.Size([64, 32, 5, 5])\n",
      "torch.Size([512, 4096])\n",
      "torch.Size([10, 512])\n",
      "layer.shape: torch.Size([32, 3, 5, 5]); mask.shape: torch.Size([32, 3, 5, 5])\n",
      "layer.shape: torch.Size([64, 32, 5, 5]); mask.shape: torch.Size([64, 32, 5, 5])\n",
      "layer.shape: torch.Size([512, 4096]); mask.shape: torch.Size([512, 4096])\n",
      "layer.shape: torch.Size([10, 512]); mask.shape: torch.Size([10, 512])\n",
      "**********test before train*************\n",
      "global model zero params: 0.7997709240478741\n",
      "Test client 7: Accuracy: 0.018959537148475647; Loss: 2.3032641410827637; Total: 4325.0;\n",
      "accuracy: 0.018959537148475647; loss: 2.3032641410827637\n",
      "**********test before train*************\n",
      "running loss: 2.162555917220957\n",
      "running loss: 1.977022796869278\n",
      "total: 0.0; time: 2.0957746505737305\n",
      "client 7 finish params zeros: 0.7997709240478741\n",
      "dl_cost: 13801523.196330769; ul_cost: 13801523.196330769\n",
      "torch.Size([32, 3, 5, 5])\n",
      "torch.Size([64, 32, 5, 5])\n",
      "torch.Size([512, 4096])\n",
      "torch.Size([10, 512])\n",
      "layer.shape: torch.Size([32, 3, 5, 5]); mask.shape: torch.Size([32, 3, 5, 5])\n",
      "layer.shape: torch.Size([64, 32, 5, 5]); mask.shape: torch.Size([64, 32, 5, 5])\n",
      "layer.shape: torch.Size([512, 4096]); mask.shape: torch.Size([512, 4096])\n",
      "layer.shape: torch.Size([10, 512]); mask.shape: torch.Size([10, 512])\n",
      "**********test before train*************\n",
      "global model zero params: 0.7997709240478741\n",
      "Test client 6: Accuracy: 0.22299115359783173; Loss: 2.296765089035034; Total: 5202.0;\n",
      "accuracy: 0.22299115359783173; loss: 2.296765089035034\n",
      "**********test before train*************\n",
      "running loss: 1.8983392395624301\n",
      "running loss: 1.5323179407817562\n",
      "total: 0.0; time: 2.063258409500122\n",
      "client 6 finish params zeros: 0.7997709240478741\n",
      "dl_cost: 13801523.196330769; ul_cost: 13801523.196330769\n",
      "torch.Size([32, 3, 5, 5])\n",
      "torch.Size([64, 32, 5, 5])\n",
      "torch.Size([512, 4096])\n",
      "torch.Size([10, 512])\n",
      "layer.shape: torch.Size([32, 3, 5, 5]); mask.shape: torch.Size([32, 3, 5, 5])\n",
      "layer.shape: torch.Size([64, 32, 5, 5]); mask.shape: torch.Size([64, 32, 5, 5])\n",
      "layer.shape: torch.Size([512, 4096]); mask.shape: torch.Size([512, 4096])\n",
      "layer.shape: torch.Size([10, 512]); mask.shape: torch.Size([10, 512])\n",
      "**********test before train*************\n",
      "global model zero params: 0.7997709240478741\n",
      "Test client 8: Accuracy: 0.00012379301188047975; Loss: 2.310382604598999; Total: 8078.0;\n",
      "accuracy: 0.00012379301188047975; loss: 2.310382604598999\n",
      "**********test before train*************\n",
      "running loss: 1.8995996497747467\n",
      "running loss: 1.7073086021453376\n",
      "total: 0.0; time: 2.6625442504882812\n",
      "client 8 finish params zeros: 0.7997709240478741\n",
      "dl_cost: 13801523.196330769; ul_cost: 13801523.196330769\n",
      "torch.Size([32, 3, 5, 5])\n",
      "torch.Size([64, 32, 5, 5])\n",
      "torch.Size([512, 4096])\n",
      "torch.Size([10, 512])\n",
      "layer.shape: torch.Size([32, 3, 5, 5]); mask.shape: torch.Size([32, 3, 5, 5])\n",
      "layer.shape: torch.Size([64, 32, 5, 5]); mask.shape: torch.Size([64, 32, 5, 5])\n",
      "layer.shape: torch.Size([512, 4096]); mask.shape: torch.Size([512, 4096])\n",
      "layer.shape: torch.Size([10, 512]); mask.shape: torch.Size([10, 512])\n",
      "**********test before train*************\n",
      "global model zero params: 0.7997709240478741\n",
      "Test client 9: Accuracy: 0.1859520971775055; Loss: 2.29164719581604; Total: 4926.0;\n",
      "accuracy: 0.1859520971775055; loss: 2.29164719581604\n",
      "**********test before train*************\n",
      "running loss: 1.9935385608053826\n",
      "running loss: 1.7548885980209747\n",
      "total: 0.0; time: 2.116544723510742\n",
      "client 9 finish params zeros: 0.7997709240478741\n",
      "dl_cost: 13801523.196330769; ul_cost: 13801523.196330769\n",
      "torch.Size([32, 3, 5, 5])\n",
      "torch.Size([64, 32, 5, 5])\n",
      "torch.Size([512, 4096])\n",
      "torch.Size([10, 512])\n",
      "layer.shape: torch.Size([32, 3, 5, 5]); mask.shape: torch.Size([32, 3, 5, 5])\n",
      "layer.shape: torch.Size([64, 32, 5, 5]); mask.shape: torch.Size([64, 32, 5, 5])\n",
      "layer.shape: torch.Size([512, 4096]); mask.shape: torch.Size([512, 4096])\n",
      "layer.shape: torch.Size([10, 512]); mask.shape: torch.Size([10, 512])\n",
      "**********test before train*************\n",
      "global model zero params: 0.7997709240478741\n",
      "Test client 5: Accuracy: 0.09623981267213821; Loss: 2.2977657318115234; Total: 3803.0;\n",
      "accuracy: 0.09623981267213821; loss: 2.2977657318115234\n",
      "**********test before train*************\n",
      "running loss: 1.9804180026054383\n",
      "running loss: 1.6132840394973755\n",
      "total: 0.0; time: 1.9673380851745605\n",
      "client 5 finish params zeros: 0.7997709240478741\n"
     ]
    },
    {
     "name": "stdout",
     "output_type": "stream",
     "text": [
      "dl_cost: 13801523.196330769; ul_cost: 13801523.196330769\n",
      "torch.Size([32, 3, 5, 5])\n",
      "torch.Size([64, 32, 5, 5])\n",
      "torch.Size([512, 4096])\n",
      "torch.Size([10, 512])\n",
      "layer.shape: torch.Size([32, 3, 5, 5]); mask.shape: torch.Size([32, 3, 5, 5])\n",
      "layer.shape: torch.Size([64, 32, 5, 5]); mask.shape: torch.Size([64, 32, 5, 5])\n",
      "layer.shape: torch.Size([512, 4096]); mask.shape: torch.Size([512, 4096])\n",
      "layer.shape: torch.Size([10, 512]); mask.shape: torch.Size([10, 512])\n",
      "**********test before train*************\n",
      "global model zero params: 0.7997709240478741\n",
      "Test client 1: Accuracy: 0.029826464131474495; Loss: 2.3090176582336426; Total: 3688.0;\n",
      "accuracy: 0.029826464131474495; loss: 2.3090176582336426\n",
      "**********test before train*************\n",
      "running loss: 1.9983615443624299\n",
      "running loss: 1.6217773001769493\n",
      "total: 0.0; time: 1.9632079601287842\n",
      "client 1 finish params zeros: 0.7997709240478741\n",
      "dl_cost: 13801523.196330769; ul_cost: 13801523.196330769\n",
      "torch.Size([32, 3, 5, 5])\n",
      "torch.Size([64, 32, 5, 5])\n",
      "torch.Size([512, 4096])\n",
      "torch.Size([10, 512])\n",
      "layer.shape: torch.Size([32, 3, 5, 5]); mask.shape: torch.Size([32, 3, 5, 5])\n",
      "layer.shape: torch.Size([64, 32, 5, 5]); mask.shape: torch.Size([64, 32, 5, 5])\n",
      "layer.shape: torch.Size([512, 4096]); mask.shape: torch.Size([512, 4096])\n",
      "layer.shape: torch.Size([10, 512]); mask.shape: torch.Size([10, 512])\n",
      "**********test before train*************\n",
      "global model zero params: 0.7997709240478741\n",
      "Test client 3: Accuracy: 0.2676837742328644; Loss: 2.29830265045166; Total: 5047.0;\n",
      "accuracy: 0.2676837742328644; loss: 2.29830265045166\n",
      "**********test before train*************\n",
      "running loss: 2.1144800186157227\n",
      "running loss: 1.9210900777502904\n",
      "total: 0.0; time: 2.203890562057495\n",
      "client 3 finish params zeros: 0.7997709240478741\n",
      "dl_cost: 13801523.196330769; ul_cost: 13801523.196330769\n",
      "server masked 80.00001855397723% params\n"
     ]
    },
    {
     "name": "stderr",
     "output_type": "stream",
     "text": [
      "\r",
      "  0%|          | 0/10 [00:00<?, ?it/s]"
     ]
    },
    {
     "name": "stdout",
     "output_type": "stream",
     "text": [
      "Test client 0: Accuracy: 0.1543244868516922; Loss: 2.307075262069702; Total: 5307.0;\n"
     ]
    },
    {
     "name": "stderr",
     "output_type": "stream",
     "text": [
      "\r",
      " 10%|█         | 1/10 [00:01<00:15,  1.69s/it]"
     ]
    },
    {
     "name": "stdout",
     "output_type": "stream",
     "text": [
      "Test client 0: Accuracy: 0.11300000548362732; Loss: 2.3043153285980225; Total: 1000.0;\n",
      "Test client 1: Accuracy: 0.04934924095869064; Loss: 2.2871999740600586; Total: 3688.0;\n"
     ]
    },
    {
     "name": "stderr",
     "output_type": "stream",
     "text": [
      "\r",
      " 20%|██        | 2/10 [00:03<00:13,  1.67s/it]"
     ]
    },
    {
     "name": "stdout",
     "output_type": "stream",
     "text": [
      "Test client 1: Accuracy: 0.09100000560283661; Loss: 2.3086414337158203; Total: 1000.0;\n",
      "Test client 2: Accuracy: 0.06381060183048248; Loss: 2.307614326477051; Total: 4435.0;\n"
     ]
    },
    {
     "name": "stderr",
     "output_type": "stream",
     "text": [
      "\r",
      " 30%|███       | 3/10 [00:05<00:11,  1.68s/it]"
     ]
    },
    {
     "name": "stdout",
     "output_type": "stream",
     "text": [
      "Test client 2: Accuracy: 0.09100000560283661; Loss: 2.3111298084259033; Total: 1000.0;\n",
      "Test client 3: Accuracy: 0.13493163883686066; Loss: 2.301328182220459; Total: 5047.0;\n"
     ]
    },
    {
     "name": "stderr",
     "output_type": "stream",
     "text": [
      "\r",
      " 40%|████      | 4/10 [00:06<00:10,  1.72s/it]"
     ]
    },
    {
     "name": "stdout",
     "output_type": "stream",
     "text": [
      "Test client 3: Accuracy: 0.11100000888109207; Loss: 2.311053514480591; Total: 1000.0;\n",
      "Test client 4: Accuracy: 0.0686066672205925; Loss: 2.337390184402466; Total: 5189.0;\n"
     ]
    },
    {
     "name": "stderr",
     "output_type": "stream",
     "text": [
      "\r",
      " 50%|█████     | 5/10 [00:08<00:08,  1.72s/it]"
     ]
    },
    {
     "name": "stdout",
     "output_type": "stream",
     "text": [
      "Test client 4: Accuracy: 0.0990000069141388; Loss: 2.305586099624634; Total: 1000.0;\n",
      "Test client 5: Accuracy: 0.0036813043989241123; Loss: 2.238199472427368; Total: 3803.0;\n"
     ]
    },
    {
     "name": "stderr",
     "output_type": "stream",
     "text": [
      "\r",
      " 60%|██████    | 6/10 [00:10<00:06,  1.69s/it]"
     ]
    },
    {
     "name": "stdout",
     "output_type": "stream",
     "text": [
      "Test client 5: Accuracy: 0.10700000822544098; Loss: 2.3068132400512695; Total: 1000.0;\n",
      "Test client 6: Accuracy: 0.02499038726091385; Loss: 2.3249242305755615; Total: 5202.0;\n"
     ]
    },
    {
     "name": "stderr",
     "output_type": "stream",
     "text": [
      "\r",
      " 70%|███████   | 7/10 [00:11<00:05,  1.69s/it]"
     ]
    },
    {
     "name": "stdout",
     "output_type": "stream",
     "text": [
      "Test client 6: Accuracy: 0.10100000351667404; Loss: 2.305304527282715; Total: 1000.0;\n",
      "Test client 7: Accuracy: 0.2252023071050644; Loss: 2.278991460800171; Total: 4325.0;\n"
     ]
    },
    {
     "name": "stderr",
     "output_type": "stream",
     "text": [
      "\r",
      " 80%|████████  | 8/10 [00:13<00:03,  1.70s/it]"
     ]
    },
    {
     "name": "stdout",
     "output_type": "stream",
     "text": [
      "Test client 7: Accuracy: 0.10100000351667404; Loss: 2.3132882118225098; Total: 1000.0;\n",
      "Test client 8: Accuracy: 0.14100024104118347; Loss: 2.310753107070923; Total: 8078.0;\n"
     ]
    },
    {
     "name": "stderr",
     "output_type": "stream",
     "text": [
      "\r",
      " 90%|█████████ | 9/10 [00:15<00:01,  1.77s/it]"
     ]
    },
    {
     "name": "stdout",
     "output_type": "stream",
     "text": [
      "Test client 8: Accuracy: 0.09200000762939453; Loss: 2.3092803955078125; Total: 1000.0;\n",
      "Test client 9: Accuracy: 0.08566788583993912; Loss: 2.363237142562866; Total: 4926.0;\n"
     ]
    },
    {
     "name": "stderr",
     "output_type": "stream",
     "text": [
      "100%|██████████| 10/10 [00:17<00:00,  1.73s/it]"
     ]
    },
    {
     "name": "stdout",
     "output_type": "stream",
     "text": [
      "Test client 9: Accuracy: 0.09400000423192978; Loss: 2.309983491897583; Total: 1000.0;\n",
      "round: 0\n",
      "Train/Acc : 0.0951564759016037; Train/Loss: 2.305671453475952;\n",
      "Test/Acc : 0.10000000149011612; Test/Loss: 2.308539628982544;\n",
      "download cost: [13801523.19633077 13801523.19633077 13801523.19633077 13801523.19633077\n",
      " 13801523.19633077 13801523.19633077 13801523.19633077 13801523.19633077\n",
      " 13801523.19633077 13801523.19633077]\n",
      "upload cost: [13801523.19633077 13801523.19633077 13801523.19633077 13801523.19633077\n",
      " 13801523.19633077 13801523.19633077 13801523.19633077 13801523.19633077\n",
      " 13801523.19633077 13801523.19633077]\n"
     ]
    },
    {
     "name": "stderr",
     "output_type": "stream",
     "text": [
      "\n"
     ]
    },
    {
     "name": "stdout",
     "output_type": "stream",
     "text": [
      "torch.Size([32, 3, 5, 5])\n",
      "torch.Size([64, 32, 5, 5])\n",
      "torch.Size([512, 4096])\n",
      "torch.Size([10, 512])\n",
      "layer.shape: torch.Size([32, 3, 5, 5]); mask.shape: torch.Size([32, 3, 5, 5])\n",
      "layer.shape: torch.Size([64, 32, 5, 5]); mask.shape: torch.Size([64, 32, 5, 5])\n",
      "layer.shape: torch.Size([512, 4096]); mask.shape: torch.Size([512, 4096])\n",
      "layer.shape: torch.Size([10, 512]); mask.shape: torch.Size([10, 512])\n",
      "**********test before train*************\n",
      "global model zero params: 0.7997709240478741\n",
      "Test client 7: Accuracy: 0.2252023071050644; Loss: 2.278991460800171; Total: 4325.0;\n",
      "accuracy: 0.2252023071050644; loss: 2.278991460800171\n",
      "**********test before train*************\n",
      "running loss: 2.147693043245989\n",
      "running loss: 1.9724745242034687\n",
      "total: 0.0; time: 2.0595459938049316\n",
      "client 7 finish params zeros: 0.7997709240478741\n",
      "dl_cost: 13801523.196330769; ul_cost: 13801523.196330769\n",
      "torch.Size([32, 3, 5, 5])\n",
      "torch.Size([64, 32, 5, 5])\n",
      "torch.Size([512, 4096])\n",
      "torch.Size([10, 512])\n",
      "layer.shape: torch.Size([32, 3, 5, 5]); mask.shape: torch.Size([32, 3, 5, 5])\n",
      "layer.shape: torch.Size([64, 32, 5, 5]); mask.shape: torch.Size([64, 32, 5, 5])\n",
      "layer.shape: torch.Size([512, 4096]); mask.shape: torch.Size([512, 4096])\n",
      "layer.shape: torch.Size([10, 512]); mask.shape: torch.Size([10, 512])\n",
      "**********test before train*************\n",
      "global model zero params: 0.7997709240478741\n",
      "Test client 6: Accuracy: 0.02499038726091385; Loss: 2.3249242305755615; Total: 5202.0;\n",
      "accuracy: 0.02499038726091385; loss: 2.3249242305755615\n",
      "**********test before train*************\n",
      "running loss: 1.9122094555598934\n",
      "running loss: 1.5339066269921093\n",
      "total: 0.0; time: 2.1941914558410645\n",
      "client 6 finish params zeros: 0.7997709240478741\n",
      "dl_cost: 13801523.196330769; ul_cost: 13801523.196330769\n",
      "torch.Size([32, 3, 5, 5])\n",
      "torch.Size([64, 32, 5, 5])\n",
      "torch.Size([512, 4096])\n",
      "torch.Size([10, 512])\n",
      "layer.shape: torch.Size([32, 3, 5, 5]); mask.shape: torch.Size([32, 3, 5, 5])\n",
      "layer.shape: torch.Size([64, 32, 5, 5]); mask.shape: torch.Size([64, 32, 5, 5])\n",
      "layer.shape: torch.Size([512, 4096]); mask.shape: torch.Size([512, 4096])\n",
      "layer.shape: torch.Size([10, 512]); mask.shape: torch.Size([10, 512])\n",
      "**********test before train*************\n",
      "global model zero params: 0.7997709240478741\n",
      "Test client 1: Accuracy: 0.04934924095869064; Loss: 2.2871999740600586; Total: 3688.0;\n",
      "accuracy: 0.04934924095869064; loss: 2.2871999740600586\n",
      "**********test before train*************\n",
      "running loss: 1.9840065631373176\n",
      "running loss: 1.6180969558913132\n",
      "total: 0.0; time: 2.03378963470459\n",
      "client 1 finish params zeros: 0.7997709240478741\n",
      "dl_cost: 13801523.196330769; ul_cost: 13801523.196330769\n",
      "torch.Size([32, 3, 5, 5])\n",
      "torch.Size([64, 32, 5, 5])\n",
      "torch.Size([512, 4096])\n",
      "torch.Size([10, 512])\n",
      "layer.shape: torch.Size([32, 3, 5, 5]); mask.shape: torch.Size([32, 3, 5, 5])\n",
      "layer.shape: torch.Size([64, 32, 5, 5]); mask.shape: torch.Size([64, 32, 5, 5])\n",
      "layer.shape: torch.Size([512, 4096]); mask.shape: torch.Size([512, 4096])\n",
      "layer.shape: torch.Size([10, 512]); mask.shape: torch.Size([10, 512])\n",
      "**********test before train*************\n",
      "global model zero params: 0.7997709240478741\n",
      "Test client 9: Accuracy: 0.08566788583993912; Loss: 2.363237142562866; Total: 4926.0;\n",
      "accuracy: 0.08566788583993912; loss: 2.363237142562866\n",
      "**********test before train*************\n",
      "running loss: 2.0300227450085924\n",
      "running loss: 1.758909672885746\n",
      "total: 0.0; time: 2.3404459953308105\n",
      "client 9 finish params zeros: 0.7997709240478741\n",
      "dl_cost: 13801523.196330769; ul_cost: 13801523.196330769\n",
      "torch.Size([32, 3, 5, 5])\n",
      "torch.Size([64, 32, 5, 5])\n",
      "torch.Size([512, 4096])\n",
      "torch.Size([10, 512])\n",
      "layer.shape: torch.Size([32, 3, 5, 5]); mask.shape: torch.Size([32, 3, 5, 5])\n",
      "layer.shape: torch.Size([64, 32, 5, 5]); mask.shape: torch.Size([64, 32, 5, 5])\n",
      "layer.shape: torch.Size([512, 4096]); mask.shape: torch.Size([512, 4096])\n",
      "layer.shape: torch.Size([10, 512]); mask.shape: torch.Size([10, 512])\n",
      "**********test before train*************\n",
      "global model zero params: 0.7997709240478741\n",
      "Test client 0: Accuracy: 0.1543244868516922; Loss: 2.307075262069702; Total: 5307.0;\n",
      "accuracy: 0.1543244868516922; loss: 2.307075262069702\n",
      "**********test before train*************\n",
      "running loss: 1.9053939207490669\n",
      "running loss: 1.5997680411281356\n",
      "total: 0.0; time: 2.4955694675445557\n",
      "client 0 finish params zeros: 0.7997709240478741\n",
      "dl_cost: 13801523.196330769; ul_cost: 13801523.196330769\n",
      "torch.Size([32, 3, 5, 5])\n",
      "torch.Size([64, 32, 5, 5])\n",
      "torch.Size([512, 4096])\n",
      "torch.Size([10, 512])\n",
      "layer.shape: torch.Size([32, 3, 5, 5]); mask.shape: torch.Size([32, 3, 5, 5])\n",
      "layer.shape: torch.Size([64, 32, 5, 5]); mask.shape: torch.Size([64, 32, 5, 5])\n",
      "layer.shape: torch.Size([512, 4096]); mask.shape: torch.Size([512, 4096])\n",
      "layer.shape: torch.Size([10, 512]); mask.shape: torch.Size([10, 512])\n",
      "**********test before train*************\n",
      "global model zero params: 0.7997709240478741\n",
      "Test client 4: Accuracy: 0.0686066672205925; Loss: 2.337390184402466; Total: 5189.0;\n",
      "accuracy: 0.0686066672205925; loss: 2.337390184402466\n",
      "**********test before train*************\n",
      "running loss: 1.8116964436158902\n",
      "running loss: 1.4756914856957226\n",
      "total: 0.0; time: 2.2255802154541016\n",
      "client 4 finish params zeros: 0.7997709240478741\n",
      "dl_cost: 13801523.196330769; ul_cost: 13801523.196330769\n",
      "torch.Size([32, 3, 5, 5])\n",
      "torch.Size([64, 32, 5, 5])\n",
      "torch.Size([512, 4096])\n",
      "torch.Size([10, 512])\n",
      "layer.shape: torch.Size([32, 3, 5, 5]); mask.shape: torch.Size([32, 3, 5, 5])\n",
      "layer.shape: torch.Size([64, 32, 5, 5]); mask.shape: torch.Size([64, 32, 5, 5])\n",
      "layer.shape: torch.Size([512, 4096]); mask.shape: torch.Size([512, 4096])\n",
      "layer.shape: torch.Size([10, 512]); mask.shape: torch.Size([10, 512])\n",
      "**********test before train*************\n",
      "global model zero params: 0.7997709240478741\n",
      "Test client 2: Accuracy: 0.06381060183048248; Loss: 2.307614326477051; Total: 4435.0;\n",
      "accuracy: 0.06381060183048248; loss: 2.307614326477051\n",
      "**********test before train*************\n",
      "running loss: 2.146193977764675\n",
      "running loss: 1.948469478743417\n",
      "total: 0.0; time: 2.147130012512207\n",
      "client 2 finish params zeros: 0.7997709240478741\n",
      "dl_cost: 13801523.196330769; ul_cost: 13801523.196330769\n",
      "torch.Size([32, 3, 5, 5])\n",
      "torch.Size([64, 32, 5, 5])\n",
      "torch.Size([512, 4096])\n",
      "torch.Size([10, 512])\n",
      "layer.shape: torch.Size([32, 3, 5, 5]); mask.shape: torch.Size([32, 3, 5, 5])\n",
      "layer.shape: torch.Size([64, 32, 5, 5]); mask.shape: torch.Size([64, 32, 5, 5])\n",
      "layer.shape: torch.Size([512, 4096]); mask.shape: torch.Size([512, 4096])\n",
      "layer.shape: torch.Size([10, 512]); mask.shape: torch.Size([10, 512])\n",
      "**********test before train*************\n",
      "global model zero params: 0.7997709240478741\n",
      "Test client 5: Accuracy: 0.0036813043989241123; Loss: 2.238199472427368; Total: 3803.0;\n",
      "accuracy: 0.0036813043989241123; loss: 2.238199472427368\n",
      "**********test before train*************\n",
      "running loss: 1.9424817363421123\n",
      "running loss: 1.6045880973339082\n",
      "total: 0.0; time: 1.9726390838623047\n",
      "client 5 finish params zeros: 0.7997709240478741\n",
      "dl_cost: 13801523.196330769; ul_cost: 13801523.196330769\n",
      "torch.Size([32, 3, 5, 5])\n",
      "torch.Size([64, 32, 5, 5])\n",
      "torch.Size([512, 4096])\n",
      "torch.Size([10, 512])\n",
      "layer.shape: torch.Size([32, 3, 5, 5]); mask.shape: torch.Size([32, 3, 5, 5])\n",
      "layer.shape: torch.Size([64, 32, 5, 5]); mask.shape: torch.Size([64, 32, 5, 5])\n",
      "layer.shape: torch.Size([512, 4096]); mask.shape: torch.Size([512, 4096])\n",
      "layer.shape: torch.Size([10, 512]); mask.shape: torch.Size([10, 512])\n",
      "**********test before train*************\n",
      "global model zero params: 0.7997709240478741\n",
      "Test client 8: Accuracy: 0.14100024104118347; Loss: 2.310753107070923; Total: 8078.0;\n",
      "accuracy: 0.14100024104118347; loss: 2.310753107070923\n",
      "**********test before train*************\n",
      "running loss: 1.8918035124230572\n",
      "running loss: 1.702852682804498\n",
      "total: 0.0; time: 2.7169108390808105\n",
      "client 8 finish params zeros: 0.7997709240478741\n",
      "dl_cost: 13801523.196330769; ul_cost: 13801523.196330769\n",
      "torch.Size([32, 3, 5, 5])\n",
      "torch.Size([64, 32, 5, 5])\n",
      "torch.Size([512, 4096])\n",
      "torch.Size([10, 512])\n",
      "layer.shape: torch.Size([32, 3, 5, 5]); mask.shape: torch.Size([32, 3, 5, 5])\n",
      "layer.shape: torch.Size([64, 32, 5, 5]); mask.shape: torch.Size([64, 32, 5, 5])\n",
      "layer.shape: torch.Size([512, 4096]); mask.shape: torch.Size([512, 4096])\n",
      "layer.shape: torch.Size([10, 512]); mask.shape: torch.Size([10, 512])\n",
      "**********test before train*************\n"
     ]
    },
    {
     "name": "stdout",
     "output_type": "stream",
     "text": [
      "global model zero params: 0.7997709240478741\n",
      "Test client 3: Accuracy: 0.13493163883686066; Loss: 2.301328182220459; Total: 5047.0;\n",
      "accuracy: 0.13493163883686066; loss: 2.301328182220459\n",
      "**********test before train*************\n",
      "running loss: 2.1147086092188387\n",
      "running loss: 1.9188398122787476\n",
      "total: 0.0; time: 2.1696622371673584\n",
      "client 3 finish params zeros: 0.7997709240478741\n",
      "dl_cost: 13801523.196330769; ul_cost: 13801523.196330769\n",
      "server masked 80.00001855397723% params\n"
     ]
    },
    {
     "name": "stderr",
     "output_type": "stream",
     "text": [
      "\r",
      "  0%|          | 0/10 [00:00<?, ?it/s]"
     ]
    },
    {
     "name": "stdout",
     "output_type": "stream",
     "text": [
      "Test client 0: Accuracy: 0.1543244868516922; Loss: 2.3113179206848145; Total: 5307.0;\n"
     ]
    },
    {
     "name": "stderr",
     "output_type": "stream",
     "text": [
      "\r",
      " 10%|█         | 1/10 [00:01<00:14,  1.62s/it]"
     ]
    },
    {
     "name": "stdout",
     "output_type": "stream",
     "text": [
      "Test client 0: Accuracy: 0.11300000548362732; Loss: 2.3070390224456787; Total: 1000.0;\n",
      "Test client 1: Accuracy: 0.04934924095869064; Loss: 2.2817492485046387; Total: 3688.0;\n"
     ]
    },
    {
     "name": "stderr",
     "output_type": "stream",
     "text": [
      "\r",
      " 20%|██        | 2/10 [00:03<00:13,  1.63s/it]"
     ]
    },
    {
     "name": "stdout",
     "output_type": "stream",
     "text": [
      "Test client 1: Accuracy: 0.09100000560283661; Loss: 2.312185287475586; Total: 1000.0;\n",
      "Test client 2: Accuracy: 0.06381060183048248; Loss: 2.311671733856201; Total: 4435.0;\n"
     ]
    },
    {
     "name": "stderr",
     "output_type": "stream",
     "text": [
      "\r",
      " 30%|███       | 3/10 [00:04<00:11,  1.65s/it]"
     ]
    },
    {
     "name": "stdout",
     "output_type": "stream",
     "text": [
      "Test client 2: Accuracy: 0.09100000560283661; Loss: 2.315244436264038; Total: 1000.0;\n",
      "Test client 3: Accuracy: 0.13493163883686066; Loss: 2.3036937713623047; Total: 5047.0;\n"
     ]
    },
    {
     "name": "stderr",
     "output_type": "stream",
     "text": [
      "\r",
      " 40%|████      | 4/10 [00:06<00:10,  1.69s/it]"
     ]
    },
    {
     "name": "stdout",
     "output_type": "stream",
     "text": [
      "Test client 3: Accuracy: 0.11100000888109207; Loss: 2.3154802322387695; Total: 1000.0;\n",
      "Test client 4: Accuracy: 0.0686066672205925; Loss: 2.3443939685821533; Total: 5189.0;\n"
     ]
    },
    {
     "name": "stderr",
     "output_type": "stream",
     "text": [
      "\r",
      " 50%|█████     | 5/10 [00:08<00:08,  1.73s/it]"
     ]
    },
    {
     "name": "stdout",
     "output_type": "stream",
     "text": [
      "Test client 4: Accuracy: 0.0990000069141388; Loss: 2.308368682861328; Total: 1000.0;\n",
      "Test client 5: Accuracy: 0.0036813043989241123; Loss: 2.2221508026123047; Total: 3803.0;\n"
     ]
    },
    {
     "name": "stderr",
     "output_type": "stream",
     "text": [
      "\r",
      " 60%|██████    | 6/10 [00:10<00:06,  1.72s/it]"
     ]
    },
    {
     "name": "stdout",
     "output_type": "stream",
     "text": [
      "Test client 5: Accuracy: 0.10700000822544098; Loss: 2.309918165206909; Total: 1000.0;\n"
     ]
    },
    {
     "name": "stderr",
     "output_type": "stream",
     "text": [
      " 60%|██████    | 6/10 [00:10<00:06,  1.73s/it]\n"
     ]
    },
    {
     "ename": "KeyboardInterrupt",
     "evalue": "",
     "output_type": "error",
     "traceback": [
      "\u001b[0;31m---------------------------------------------------------------------------\u001b[0m",
      "\u001b[0;31mKeyboardInterrupt\u001b[0m                         Traceback (most recent call last)",
      "\u001b[0;32m/tmp/ipykernel_24395/788602005.py\u001b[0m in \u001b[0;36m<module>\u001b[0;34m\u001b[0m\n\u001b[0;32m----> 1\u001b[0;31m \u001b[0mrun\u001b[0m \u001b[0;34m=\u001b[0m \u001b[0mfedsnip_obj\u001b[0m\u001b[0;34m.\u001b[0m\u001b[0mmain\u001b[0m\u001b[0;34m(\u001b[0m\u001b[0margs\u001b[0m\u001b[0;34m)\u001b[0m\u001b[0;34m\u001b[0m\u001b[0;34m\u001b[0m\u001b[0m\n\u001b[0m",
      "\u001b[0;32m~/FL/efficient_FL/feddst/fedsnip.py\u001b[0m in \u001b[0;36mmain\u001b[0;34m(args)\u001b[0m\n\u001b[1;32m    259\u001b[0m \u001b[0;34m\u001b[0m\u001b[0m\n\u001b[1;32m    260\u001b[0m         \u001b[0;32mif\u001b[0m \u001b[0mround\u001b[0m \u001b[0;34m%\u001b[0m \u001b[0margs\u001b[0m\u001b[0;34m.\u001b[0m\u001b[0meval_every\u001b[0m \u001b[0;34m==\u001b[0m \u001b[0;36m0\u001b[0m\u001b[0;34m:\u001b[0m\u001b[0;34m\u001b[0m\u001b[0;34m\u001b[0m\u001b[0m\n\u001b[0;32m--> 261\u001b[0;31m             \u001b[0mtrain_accuracies\u001b[0m\u001b[0;34m,\u001b[0m \u001b[0mtest_accuracies\u001b[0m \u001b[0;34m=\u001b[0m \u001b[0mserver\u001b[0m\u001b[0;34m.\u001b[0m\u001b[0mtest_global_model_on_all_client\u001b[0m\u001b[0;34m(\u001b[0m\u001b[0mclients\u001b[0m\u001b[0;34m,\u001b[0m \u001b[0mround\u001b[0m\u001b[0;34m)\u001b[0m\u001b[0;34m\u001b[0m\u001b[0;34m\u001b[0m\u001b[0m\n\u001b[0m\u001b[1;32m    262\u001b[0m             \u001b[0;31m# for client_id in clients:\u001b[0m\u001b[0;34m\u001b[0m\u001b[0;34m\u001b[0m\u001b[0;34m\u001b[0m\u001b[0m\n\u001b[1;32m    263\u001b[0m             \u001b[0;31m#     print_csv_line(pid=args.pid,\u001b[0m\u001b[0;34m\u001b[0m\u001b[0;34m\u001b[0m\u001b[0;34m\u001b[0m\u001b[0m\n",
      "\u001b[0;32m~/FL/efficient_FL/feddst/server.py\u001b[0m in \u001b[0;36mtest_global_model_on_all_client\u001b[0;34m(self, clients, round)\u001b[0m\n\u001b[1;32m    382\u001b[0m \u001b[0;34m\u001b[0m\u001b[0m\n\u001b[1;32m    383\u001b[0m         train_accuracies, train_losses, test_accuracies, test_losses = utils.evaluate_local(clients, self.model, progress=True,\n\u001b[0;32m--> 384\u001b[0;31m                                                     n_batches=0)\n\u001b[0m\u001b[1;32m    385\u001b[0m         \u001b[0mwandb\u001b[0m\u001b[0;34m.\u001b[0m\u001b[0mlog\u001b[0m\u001b[0;34m(\u001b[0m\u001b[0;34m{\u001b[0m\u001b[0;34m\"Train/Acc\"\u001b[0m\u001b[0;34m:\u001b[0m \u001b[0msum\u001b[0m\u001b[0;34m(\u001b[0m\u001b[0mtrain_accuracies\u001b[0m\u001b[0;34m.\u001b[0m\u001b[0mvalues\u001b[0m\u001b[0;34m(\u001b[0m\u001b[0;34m)\u001b[0m\u001b[0;34m)\u001b[0m\u001b[0;34m/\u001b[0m\u001b[0mlen\u001b[0m\u001b[0;34m(\u001b[0m\u001b[0mtrain_accuracies\u001b[0m\u001b[0;34m.\u001b[0m\u001b[0mvalues\u001b[0m\u001b[0;34m(\u001b[0m\u001b[0;34m)\u001b[0m\u001b[0;34m)\u001b[0m\u001b[0;34m,\u001b[0m \u001b[0;34m'round'\u001b[0m\u001b[0;34m:\u001b[0m \u001b[0mround\u001b[0m\u001b[0;34m,\u001b[0m \u001b[0;34m'comm_cost'\u001b[0m\u001b[0;34m:\u001b[0m \u001b[0mint\u001b[0m\u001b[0;34m(\u001b[0m\u001b[0mself\u001b[0m\u001b[0;34m.\u001b[0m\u001b[0mtransmission_cost\u001b[0m\u001b[0;34m)\u001b[0m\u001b[0;34m,\u001b[0m \u001b[0;34m'training_time'\u001b[0m\u001b[0;34m:\u001b[0m \u001b[0mself\u001b[0m\u001b[0;34m.\u001b[0m\u001b[0mcompute_time\u001b[0m\u001b[0;34m}\u001b[0m\u001b[0;34m)\u001b[0m\u001b[0;34m\u001b[0m\u001b[0;34m\u001b[0m\u001b[0m\n\u001b[1;32m    386\u001b[0m         \u001b[0mwandb\u001b[0m\u001b[0;34m.\u001b[0m\u001b[0mlog\u001b[0m\u001b[0;34m(\u001b[0m\u001b[0;34m{\u001b[0m\u001b[0;34m\"Train/Loss\"\u001b[0m\u001b[0;34m:\u001b[0m \u001b[0msum\u001b[0m\u001b[0;34m(\u001b[0m\u001b[0mtrain_losses\u001b[0m\u001b[0;34m.\u001b[0m\u001b[0mvalues\u001b[0m\u001b[0;34m(\u001b[0m\u001b[0;34m)\u001b[0m\u001b[0;34m)\u001b[0m\u001b[0;34m/\u001b[0m\u001b[0mlen\u001b[0m\u001b[0;34m(\u001b[0m\u001b[0mtrain_losses\u001b[0m\u001b[0;34m.\u001b[0m\u001b[0mvalues\u001b[0m\u001b[0;34m(\u001b[0m\u001b[0;34m)\u001b[0m\u001b[0;34m)\u001b[0m\u001b[0;34m,\u001b[0m \u001b[0;34m'round'\u001b[0m\u001b[0;34m:\u001b[0m \u001b[0mround\u001b[0m\u001b[0;34m,\u001b[0m \u001b[0;34m'comm_cost'\u001b[0m\u001b[0;34m:\u001b[0m \u001b[0mint\u001b[0m\u001b[0;34m(\u001b[0m\u001b[0mself\u001b[0m\u001b[0;34m.\u001b[0m\u001b[0mtransmission_cost\u001b[0m\u001b[0;34m)\u001b[0m\u001b[0;34m,\u001b[0m \u001b[0;34m'training_time'\u001b[0m\u001b[0;34m:\u001b[0m \u001b[0mself\u001b[0m\u001b[0;34m.\u001b[0m\u001b[0mcompute_time\u001b[0m\u001b[0;34m}\u001b[0m\u001b[0;34m)\u001b[0m\u001b[0;34m\u001b[0m\u001b[0;34m\u001b[0m\u001b[0m\n",
      "\u001b[0;32m~/FL/efficient_FL/feddst/utils.py\u001b[0m in \u001b[0;36mevaluate_local\u001b[0;34m(clients, global_model, progress, n_batches)\u001b[0m\n\u001b[1;32m    252\u001b[0m             \u001b[0;31m# client.reset_weights(global_state_dict=global_model.state_dict())\u001b[0m\u001b[0;34m\u001b[0m\u001b[0;34m\u001b[0m\u001b[0;34m\u001b[0m\u001b[0m\n\u001b[1;32m    253\u001b[0m             \u001b[0;31m# global_model = None\u001b[0m\u001b[0;34m\u001b[0m\u001b[0;34m\u001b[0m\u001b[0;34m\u001b[0m\u001b[0m\n\u001b[0;32m--> 254\u001b[0;31m             \u001b[0maccuracy\u001b[0m\u001b[0;34m,\u001b[0m \u001b[0mloss\u001b[0m \u001b[0;34m=\u001b[0m \u001b[0mclient\u001b[0m\u001b[0;34m.\u001b[0m\u001b[0mtest\u001b[0m\u001b[0;34m(\u001b[0m\u001b[0mmodel\u001b[0m\u001b[0;34m=\u001b[0m\u001b[0mglobal_model\u001b[0m\u001b[0;34m,\u001b[0m \u001b[0mtrain_data\u001b[0m\u001b[0;34m=\u001b[0m\u001b[0;32mTrue\u001b[0m\u001b[0;34m)\u001b[0m\u001b[0;34m\u001b[0m\u001b[0;34m\u001b[0m\u001b[0m\n\u001b[0m\u001b[1;32m    255\u001b[0m             \u001b[0mtrain_accuracies\u001b[0m\u001b[0;34m[\u001b[0m\u001b[0mclient_id\u001b[0m\u001b[0;34m]\u001b[0m \u001b[0;34m=\u001b[0m \u001b[0maccuracy\u001b[0m\u001b[0;34m\u001b[0m\u001b[0;34m\u001b[0m\u001b[0m\n\u001b[1;32m    256\u001b[0m             \u001b[0mtrain_losses\u001b[0m\u001b[0;34m[\u001b[0m\u001b[0mclient_id\u001b[0m\u001b[0;34m]\u001b[0m \u001b[0;34m=\u001b[0m \u001b[0mloss\u001b[0m\u001b[0;34m\u001b[0m\u001b[0;34m\u001b[0m\u001b[0m\n",
      "\u001b[0;32m~/FL/efficient_FL/feddst/client.py\u001b[0m in \u001b[0;36mtest\u001b[0;34m(self, model, n_batches, train_data)\u001b[0m\n\u001b[1;32m    318\u001b[0m \u001b[0;34m\u001b[0m\u001b[0m\n\u001b[1;32m    319\u001b[0m         \u001b[0;32mwith\u001b[0m \u001b[0mtorch\u001b[0m\u001b[0;34m.\u001b[0m\u001b[0mno_grad\u001b[0m\u001b[0;34m(\u001b[0m\u001b[0;34m)\u001b[0m\u001b[0;34m:\u001b[0m\u001b[0;34m\u001b[0m\u001b[0;34m\u001b[0m\u001b[0m\n\u001b[0;32m--> 320\u001b[0;31m             \u001b[0;32mfor\u001b[0m \u001b[0mi\u001b[0m\u001b[0;34m,\u001b[0m \u001b[0;34m(\u001b[0m\u001b[0minputs\u001b[0m\u001b[0;34m,\u001b[0m \u001b[0mlabels\u001b[0m\u001b[0;34m)\u001b[0m \u001b[0;32min\u001b[0m \u001b[0menumerate\u001b[0m\u001b[0;34m(\u001b[0m\u001b[0mdata_loader\u001b[0m\u001b[0;34m)\u001b[0m\u001b[0;34m:\u001b[0m\u001b[0;34m\u001b[0m\u001b[0;34m\u001b[0m\u001b[0m\n\u001b[0m\u001b[1;32m    321\u001b[0m                 \u001b[0;32mif\u001b[0m \u001b[0mi\u001b[0m \u001b[0;34m>\u001b[0m \u001b[0mn_batches\u001b[0m \u001b[0;32mand\u001b[0m \u001b[0mn_batches\u001b[0m \u001b[0;34m>\u001b[0m \u001b[0;36m0\u001b[0m\u001b[0;34m:\u001b[0m\u001b[0;34m\u001b[0m\u001b[0;34m\u001b[0m\u001b[0m\n\u001b[1;32m    322\u001b[0m                     \u001b[0;32mbreak\u001b[0m\u001b[0;34m\u001b[0m\u001b[0;34m\u001b[0m\u001b[0m\n",
      "\u001b[0;32m~/anaconda3/envs/fedml/lib/python3.7/site-packages/torch/utils/data/dataloader.py\u001b[0m in \u001b[0;36m__iter__\u001b[0;34m(self)\u001b[0m\n\u001b[1;32m    366\u001b[0m             \u001b[0;32mreturn\u001b[0m \u001b[0mself\u001b[0m\u001b[0;34m.\u001b[0m\u001b[0m_iterator\u001b[0m\u001b[0;34m\u001b[0m\u001b[0;34m\u001b[0m\u001b[0m\n\u001b[1;32m    367\u001b[0m         \u001b[0;32melse\u001b[0m\u001b[0;34m:\u001b[0m\u001b[0;34m\u001b[0m\u001b[0;34m\u001b[0m\u001b[0m\n\u001b[0;32m--> 368\u001b[0;31m             \u001b[0;32mreturn\u001b[0m \u001b[0mself\u001b[0m\u001b[0;34m.\u001b[0m\u001b[0m_get_iterator\u001b[0m\u001b[0;34m(\u001b[0m\u001b[0;34m)\u001b[0m\u001b[0;34m\u001b[0m\u001b[0;34m\u001b[0m\u001b[0m\n\u001b[0m\u001b[1;32m    369\u001b[0m \u001b[0;34m\u001b[0m\u001b[0m\n\u001b[1;32m    370\u001b[0m     \u001b[0;34m@\u001b[0m\u001b[0mproperty\u001b[0m\u001b[0;34m\u001b[0m\u001b[0;34m\u001b[0m\u001b[0m\n",
      "\u001b[0;32m~/anaconda3/envs/fedml/lib/python3.7/site-packages/torch/utils/data/dataloader.py\u001b[0m in \u001b[0;36m_get_iterator\u001b[0;34m(self)\u001b[0m\n\u001b[1;32m    312\u001b[0m         \u001b[0;32melse\u001b[0m\u001b[0;34m:\u001b[0m\u001b[0;34m\u001b[0m\u001b[0;34m\u001b[0m\u001b[0m\n\u001b[1;32m    313\u001b[0m             \u001b[0mself\u001b[0m\u001b[0;34m.\u001b[0m\u001b[0mcheck_worker_number_rationality\u001b[0m\u001b[0;34m(\u001b[0m\u001b[0;34m)\u001b[0m\u001b[0;34m\u001b[0m\u001b[0;34m\u001b[0m\u001b[0m\n\u001b[0;32m--> 314\u001b[0;31m             \u001b[0;32mreturn\u001b[0m \u001b[0m_MultiProcessingDataLoaderIter\u001b[0m\u001b[0;34m(\u001b[0m\u001b[0mself\u001b[0m\u001b[0;34m)\u001b[0m\u001b[0;34m\u001b[0m\u001b[0;34m\u001b[0m\u001b[0m\n\u001b[0m\u001b[1;32m    315\u001b[0m \u001b[0;34m\u001b[0m\u001b[0m\n\u001b[1;32m    316\u001b[0m     \u001b[0;34m@\u001b[0m\u001b[0mproperty\u001b[0m\u001b[0;34m\u001b[0m\u001b[0;34m\u001b[0m\u001b[0m\n",
      "\u001b[0;32m~/anaconda3/envs/fedml/lib/python3.7/site-packages/torch/utils/data/dataloader.py\u001b[0m in \u001b[0;36m__init__\u001b[0;34m(self, loader)\u001b[0m\n\u001b[1;32m    925\u001b[0m             \u001b[0;31m#     before it starts, and __del__ tries to join but will get:\u001b[0m\u001b[0;34m\u001b[0m\u001b[0;34m\u001b[0m\u001b[0;34m\u001b[0m\u001b[0m\n\u001b[1;32m    926\u001b[0m             \u001b[0;31m#     AssertionError: can only join a started process.\u001b[0m\u001b[0;34m\u001b[0m\u001b[0;34m\u001b[0m\u001b[0;34m\u001b[0m\u001b[0m\n\u001b[0;32m--> 927\u001b[0;31m             \u001b[0mw\u001b[0m\u001b[0;34m.\u001b[0m\u001b[0mstart\u001b[0m\u001b[0;34m(\u001b[0m\u001b[0;34m)\u001b[0m\u001b[0;34m\u001b[0m\u001b[0;34m\u001b[0m\u001b[0m\n\u001b[0m\u001b[1;32m    928\u001b[0m             \u001b[0mself\u001b[0m\u001b[0;34m.\u001b[0m\u001b[0m_index_queues\u001b[0m\u001b[0;34m.\u001b[0m\u001b[0mappend\u001b[0m\u001b[0;34m(\u001b[0m\u001b[0mindex_queue\u001b[0m\u001b[0;34m)\u001b[0m\u001b[0;34m\u001b[0m\u001b[0;34m\u001b[0m\u001b[0m\n\u001b[1;32m    929\u001b[0m             \u001b[0mself\u001b[0m\u001b[0;34m.\u001b[0m\u001b[0m_workers\u001b[0m\u001b[0;34m.\u001b[0m\u001b[0mappend\u001b[0m\u001b[0;34m(\u001b[0m\u001b[0mw\u001b[0m\u001b[0;34m)\u001b[0m\u001b[0;34m\u001b[0m\u001b[0;34m\u001b[0m\u001b[0m\n",
      "\u001b[0;32m~/anaconda3/envs/fedml/lib/python3.7/multiprocessing/process.py\u001b[0m in \u001b[0;36mstart\u001b[0;34m(self)\u001b[0m\n\u001b[1;32m    110\u001b[0m                \u001b[0;34m'daemonic processes are not allowed to have children'\u001b[0m\u001b[0;34m\u001b[0m\u001b[0;34m\u001b[0m\u001b[0m\n\u001b[1;32m    111\u001b[0m         \u001b[0m_cleanup\u001b[0m\u001b[0;34m(\u001b[0m\u001b[0;34m)\u001b[0m\u001b[0;34m\u001b[0m\u001b[0;34m\u001b[0m\u001b[0m\n\u001b[0;32m--> 112\u001b[0;31m         \u001b[0mself\u001b[0m\u001b[0;34m.\u001b[0m\u001b[0m_popen\u001b[0m \u001b[0;34m=\u001b[0m \u001b[0mself\u001b[0m\u001b[0;34m.\u001b[0m\u001b[0m_Popen\u001b[0m\u001b[0;34m(\u001b[0m\u001b[0mself\u001b[0m\u001b[0;34m)\u001b[0m\u001b[0;34m\u001b[0m\u001b[0;34m\u001b[0m\u001b[0m\n\u001b[0m\u001b[1;32m    113\u001b[0m         \u001b[0mself\u001b[0m\u001b[0;34m.\u001b[0m\u001b[0m_sentinel\u001b[0m \u001b[0;34m=\u001b[0m \u001b[0mself\u001b[0m\u001b[0;34m.\u001b[0m\u001b[0m_popen\u001b[0m\u001b[0;34m.\u001b[0m\u001b[0msentinel\u001b[0m\u001b[0;34m\u001b[0m\u001b[0;34m\u001b[0m\u001b[0m\n\u001b[1;32m    114\u001b[0m         \u001b[0;31m# Avoid a refcycle if the target function holds an indirect\u001b[0m\u001b[0;34m\u001b[0m\u001b[0;34m\u001b[0m\u001b[0;34m\u001b[0m\u001b[0m\n",
      "\u001b[0;32m~/anaconda3/envs/fedml/lib/python3.7/multiprocessing/context.py\u001b[0m in \u001b[0;36m_Popen\u001b[0;34m(process_obj)\u001b[0m\n\u001b[1;32m    221\u001b[0m     \u001b[0;34m@\u001b[0m\u001b[0mstaticmethod\u001b[0m\u001b[0;34m\u001b[0m\u001b[0;34m\u001b[0m\u001b[0m\n\u001b[1;32m    222\u001b[0m     \u001b[0;32mdef\u001b[0m \u001b[0m_Popen\u001b[0m\u001b[0;34m(\u001b[0m\u001b[0mprocess_obj\u001b[0m\u001b[0;34m)\u001b[0m\u001b[0;34m:\u001b[0m\u001b[0;34m\u001b[0m\u001b[0;34m\u001b[0m\u001b[0m\n\u001b[0;32m--> 223\u001b[0;31m         \u001b[0;32mreturn\u001b[0m \u001b[0m_default_context\u001b[0m\u001b[0;34m.\u001b[0m\u001b[0mget_context\u001b[0m\u001b[0;34m(\u001b[0m\u001b[0;34m)\u001b[0m\u001b[0;34m.\u001b[0m\u001b[0mProcess\u001b[0m\u001b[0;34m.\u001b[0m\u001b[0m_Popen\u001b[0m\u001b[0;34m(\u001b[0m\u001b[0mprocess_obj\u001b[0m\u001b[0;34m)\u001b[0m\u001b[0;34m\u001b[0m\u001b[0;34m\u001b[0m\u001b[0m\n\u001b[0m\u001b[1;32m    224\u001b[0m \u001b[0;34m\u001b[0m\u001b[0m\n\u001b[1;32m    225\u001b[0m \u001b[0;32mclass\u001b[0m \u001b[0mDefaultContext\u001b[0m\u001b[0;34m(\u001b[0m\u001b[0mBaseContext\u001b[0m\u001b[0;34m)\u001b[0m\u001b[0;34m:\u001b[0m\u001b[0;34m\u001b[0m\u001b[0;34m\u001b[0m\u001b[0m\n",
      "\u001b[0;32m~/anaconda3/envs/fedml/lib/python3.7/multiprocessing/context.py\u001b[0m in \u001b[0;36m_Popen\u001b[0;34m(process_obj)\u001b[0m\n\u001b[1;32m    275\u001b[0m         \u001b[0;32mdef\u001b[0m \u001b[0m_Popen\u001b[0m\u001b[0;34m(\u001b[0m\u001b[0mprocess_obj\u001b[0m\u001b[0;34m)\u001b[0m\u001b[0;34m:\u001b[0m\u001b[0;34m\u001b[0m\u001b[0;34m\u001b[0m\u001b[0m\n\u001b[1;32m    276\u001b[0m             \u001b[0;32mfrom\u001b[0m \u001b[0;34m.\u001b[0m\u001b[0mpopen_fork\u001b[0m \u001b[0;32mimport\u001b[0m \u001b[0mPopen\u001b[0m\u001b[0;34m\u001b[0m\u001b[0;34m\u001b[0m\u001b[0m\n\u001b[0;32m--> 277\u001b[0;31m             \u001b[0;32mreturn\u001b[0m \u001b[0mPopen\u001b[0m\u001b[0;34m(\u001b[0m\u001b[0mprocess_obj\u001b[0m\u001b[0;34m)\u001b[0m\u001b[0;34m\u001b[0m\u001b[0;34m\u001b[0m\u001b[0m\n\u001b[0m\u001b[1;32m    278\u001b[0m \u001b[0;34m\u001b[0m\u001b[0m\n\u001b[1;32m    279\u001b[0m     \u001b[0;32mclass\u001b[0m \u001b[0mSpawnProcess\u001b[0m\u001b[0;34m(\u001b[0m\u001b[0mprocess\u001b[0m\u001b[0;34m.\u001b[0m\u001b[0mBaseProcess\u001b[0m\u001b[0;34m)\u001b[0m\u001b[0;34m:\u001b[0m\u001b[0;34m\u001b[0m\u001b[0;34m\u001b[0m\u001b[0m\n",
      "\u001b[0;32m~/anaconda3/envs/fedml/lib/python3.7/multiprocessing/popen_fork.py\u001b[0m in \u001b[0;36m__init__\u001b[0;34m(self, process_obj)\u001b[0m\n\u001b[1;32m     15\u001b[0m \u001b[0;34m\u001b[0m\u001b[0m\n\u001b[1;32m     16\u001b[0m     \u001b[0;32mdef\u001b[0m \u001b[0m__init__\u001b[0m\u001b[0;34m(\u001b[0m\u001b[0mself\u001b[0m\u001b[0;34m,\u001b[0m \u001b[0mprocess_obj\u001b[0m\u001b[0;34m)\u001b[0m\u001b[0;34m:\u001b[0m\u001b[0;34m\u001b[0m\u001b[0;34m\u001b[0m\u001b[0m\n\u001b[0;32m---> 17\u001b[0;31m         \u001b[0mutil\u001b[0m\u001b[0;34m.\u001b[0m\u001b[0m_flush_std_streams\u001b[0m\u001b[0;34m(\u001b[0m\u001b[0;34m)\u001b[0m\u001b[0;34m\u001b[0m\u001b[0;34m\u001b[0m\u001b[0m\n\u001b[0m\u001b[1;32m     18\u001b[0m         \u001b[0mself\u001b[0m\u001b[0;34m.\u001b[0m\u001b[0mreturncode\u001b[0m \u001b[0;34m=\u001b[0m \u001b[0;32mNone\u001b[0m\u001b[0;34m\u001b[0m\u001b[0;34m\u001b[0m\u001b[0m\n\u001b[1;32m     19\u001b[0m         \u001b[0mself\u001b[0m\u001b[0;34m.\u001b[0m\u001b[0mfinalizer\u001b[0m \u001b[0;34m=\u001b[0m \u001b[0;32mNone\u001b[0m\u001b[0;34m\u001b[0m\u001b[0;34m\u001b[0m\u001b[0m\n",
      "\u001b[0;32m~/anaconda3/envs/fedml/lib/python3.7/multiprocessing/util.py\u001b[0m in \u001b[0;36m_flush_std_streams\u001b[0;34m()\u001b[0m\n\u001b[1;32m    402\u001b[0m         \u001b[0;32mpass\u001b[0m\u001b[0;34m\u001b[0m\u001b[0;34m\u001b[0m\u001b[0m\n\u001b[1;32m    403\u001b[0m     \u001b[0;32mtry\u001b[0m\u001b[0;34m:\u001b[0m\u001b[0;34m\u001b[0m\u001b[0;34m\u001b[0m\u001b[0m\n\u001b[0;32m--> 404\u001b[0;31m         \u001b[0msys\u001b[0m\u001b[0;34m.\u001b[0m\u001b[0mstderr\u001b[0m\u001b[0;34m.\u001b[0m\u001b[0mflush\u001b[0m\u001b[0;34m(\u001b[0m\u001b[0;34m)\u001b[0m\u001b[0;34m\u001b[0m\u001b[0;34m\u001b[0m\u001b[0m\n\u001b[0m\u001b[1;32m    405\u001b[0m     \u001b[0;32mexcept\u001b[0m \u001b[0;34m(\u001b[0m\u001b[0mAttributeError\u001b[0m\u001b[0;34m,\u001b[0m \u001b[0mValueError\u001b[0m\u001b[0;34m)\u001b[0m\u001b[0;34m:\u001b[0m\u001b[0;34m\u001b[0m\u001b[0;34m\u001b[0m\u001b[0m\n\u001b[1;32m    406\u001b[0m         \u001b[0;32mpass\u001b[0m\u001b[0;34m\u001b[0m\u001b[0;34m\u001b[0m\u001b[0m\n",
      "\u001b[0;32m~/anaconda3/envs/fedml/lib/python3.7/site-packages/ipykernel/iostream.py\u001b[0m in \u001b[0;36mflush\u001b[0;34m(self)\u001b[0m\n\u001b[1;32m    466\u001b[0m                 \u001b[0mself\u001b[0m\u001b[0;34m.\u001b[0m\u001b[0mpub_thread\u001b[0m\u001b[0;34m.\u001b[0m\u001b[0mschedule\u001b[0m\u001b[0;34m(\u001b[0m\u001b[0mevt\u001b[0m\u001b[0;34m.\u001b[0m\u001b[0mset\u001b[0m\u001b[0;34m)\u001b[0m\u001b[0;34m\u001b[0m\u001b[0;34m\u001b[0m\u001b[0m\n\u001b[1;32m    467\u001b[0m                 \u001b[0;31m# and give a timeout to avoid\u001b[0m\u001b[0;34m\u001b[0m\u001b[0;34m\u001b[0m\u001b[0;34m\u001b[0m\u001b[0m\n\u001b[0;32m--> 468\u001b[0;31m                 \u001b[0;32mif\u001b[0m \u001b[0;32mnot\u001b[0m \u001b[0mevt\u001b[0m\u001b[0;34m.\u001b[0m\u001b[0mwait\u001b[0m\u001b[0;34m(\u001b[0m\u001b[0mself\u001b[0m\u001b[0;34m.\u001b[0m\u001b[0mflush_timeout\u001b[0m\u001b[0;34m)\u001b[0m\u001b[0;34m:\u001b[0m\u001b[0;34m\u001b[0m\u001b[0;34m\u001b[0m\u001b[0m\n\u001b[0m\u001b[1;32m    469\u001b[0m                     \u001b[0;31m# write directly to __stderr__ instead of warning because\u001b[0m\u001b[0;34m\u001b[0m\u001b[0;34m\u001b[0m\u001b[0;34m\u001b[0m\u001b[0m\n\u001b[1;32m    470\u001b[0m                     \u001b[0;31m# if this is happening sys.stderr may be the problem.\u001b[0m\u001b[0;34m\u001b[0m\u001b[0;34m\u001b[0m\u001b[0;34m\u001b[0m\u001b[0m\n",
      "\u001b[0;32m~/anaconda3/envs/fedml/lib/python3.7/threading.py\u001b[0m in \u001b[0;36mwait\u001b[0;34m(self, timeout)\u001b[0m\n\u001b[1;32m    550\u001b[0m             \u001b[0msignaled\u001b[0m \u001b[0;34m=\u001b[0m \u001b[0mself\u001b[0m\u001b[0;34m.\u001b[0m\u001b[0m_flag\u001b[0m\u001b[0;34m\u001b[0m\u001b[0;34m\u001b[0m\u001b[0m\n\u001b[1;32m    551\u001b[0m             \u001b[0;32mif\u001b[0m \u001b[0;32mnot\u001b[0m \u001b[0msignaled\u001b[0m\u001b[0;34m:\u001b[0m\u001b[0;34m\u001b[0m\u001b[0;34m\u001b[0m\u001b[0m\n\u001b[0;32m--> 552\u001b[0;31m                 \u001b[0msignaled\u001b[0m \u001b[0;34m=\u001b[0m \u001b[0mself\u001b[0m\u001b[0;34m.\u001b[0m\u001b[0m_cond\u001b[0m\u001b[0;34m.\u001b[0m\u001b[0mwait\u001b[0m\u001b[0;34m(\u001b[0m\u001b[0mtimeout\u001b[0m\u001b[0;34m)\u001b[0m\u001b[0;34m\u001b[0m\u001b[0;34m\u001b[0m\u001b[0m\n\u001b[0m\u001b[1;32m    553\u001b[0m             \u001b[0;32mreturn\u001b[0m \u001b[0msignaled\u001b[0m\u001b[0;34m\u001b[0m\u001b[0;34m\u001b[0m\u001b[0m\n\u001b[1;32m    554\u001b[0m \u001b[0;34m\u001b[0m\u001b[0m\n",
      "\u001b[0;32m~/anaconda3/envs/fedml/lib/python3.7/threading.py\u001b[0m in \u001b[0;36mwait\u001b[0;34m(self, timeout)\u001b[0m\n\u001b[1;32m    298\u001b[0m             \u001b[0;32melse\u001b[0m\u001b[0;34m:\u001b[0m\u001b[0;34m\u001b[0m\u001b[0;34m\u001b[0m\u001b[0m\n\u001b[1;32m    299\u001b[0m                 \u001b[0;32mif\u001b[0m \u001b[0mtimeout\u001b[0m \u001b[0;34m>\u001b[0m \u001b[0;36m0\u001b[0m\u001b[0;34m:\u001b[0m\u001b[0;34m\u001b[0m\u001b[0;34m\u001b[0m\u001b[0m\n\u001b[0;32m--> 300\u001b[0;31m                     \u001b[0mgotit\u001b[0m \u001b[0;34m=\u001b[0m \u001b[0mwaiter\u001b[0m\u001b[0;34m.\u001b[0m\u001b[0macquire\u001b[0m\u001b[0;34m(\u001b[0m\u001b[0;32mTrue\u001b[0m\u001b[0;34m,\u001b[0m \u001b[0mtimeout\u001b[0m\u001b[0;34m)\u001b[0m\u001b[0;34m\u001b[0m\u001b[0;34m\u001b[0m\u001b[0m\n\u001b[0m\u001b[1;32m    301\u001b[0m                 \u001b[0;32melse\u001b[0m\u001b[0;34m:\u001b[0m\u001b[0;34m\u001b[0m\u001b[0;34m\u001b[0m\u001b[0m\n\u001b[1;32m    302\u001b[0m                     \u001b[0mgotit\u001b[0m \u001b[0;34m=\u001b[0m \u001b[0mwaiter\u001b[0m\u001b[0;34m.\u001b[0m\u001b[0macquire\u001b[0m\u001b[0;34m(\u001b[0m\u001b[0;32mFalse\u001b[0m\u001b[0;34m)\u001b[0m\u001b[0;34m\u001b[0m\u001b[0;34m\u001b[0m\u001b[0m\n",
      "\u001b[0;31mKeyboardInterrupt\u001b[0m: "
     ]
    }
   ],
   "source": [
    "run = fedsnip_obj.main(args)"
   ]
  },
  {
   "cell_type": "code",
   "execution_count": null,
   "id": "f0fff754",
   "metadata": {},
   "outputs": [],
   "source": [
    "# import os\n",
    "# print('...')\n",
    "# name = input()\n",
    "# print('++++')"
   ]
  },
  {
   "cell_type": "code",
   "execution_count": null,
   "id": "88461634",
   "metadata": {
    "scrolled": false
   },
   "outputs": [],
   "source": [
    "# while True:\n",
    "#     debug_info = next(run)\n",
    "#     print(debug_info.msg)\n",
    "    \n",
    "    \n",
    "    \n",
    "#     input()\n",
    "debug_info = next(run)\n",
    "masks = debug_info.obj\n",
    "# global_model = debug_info.obj\n",
    "# aggregated_masks = debug_info.obj[0]\n",
    "# cl_mask_prarms = debug_info.obj[1]"
   ]
  },
  {
   "cell_type": "code",
   "execution_count": null,
   "id": "a9403d98",
   "metadata": {},
   "outputs": [],
   "source": [
    "masks = server.masks\n",
    "torch.cat(masks)"
   ]
  },
  {
   "cell_type": "code",
   "execution_count": null,
   "id": "6034449f",
   "metadata": {},
   "outputs": [],
   "source": [
    "server = masks\n",
    "def count_vote(masks, vote):\n",
    "    tc = 0.\n",
    "    keeped = 0.\n",
    "    for i in range(len(masks)):\n",
    "        tc += masks[i].numel()\n",
    "        m = masks[i].clone().detach()\n",
    "        keeped += torch.sum(torch.where(m >= vote, 1, 0))\n",
    "\n",
    "    print(\"keeped: {}, total: {}, pct: {}\".format(keeped, tc, keeped/tc))"
   ]
  },
  {
   "cell_type": "code",
   "execution_count": null,
   "id": "8a0c09f6",
   "metadata": {},
   "outputs": [],
   "source": [
    "for i in range(10):\n",
    "    print('vote {}'.format(i))\n",
    "    count_vote(server.masks, i)"
   ]
  },
  {
   "cell_type": "code",
   "execution_count": null,
   "id": "cc01131e",
   "metadata": {},
   "outputs": [],
   "source": [
    "masks = server.masks\n",
    "for i in range(len(masks)):\n",
    "    print(masks[i].shape)\n",
    "flat_masks = torch.cat([m.flatten() for m in masks])\n",
    "keep_num = len(flat_masks) * 0.1\n",
    "threshold, indices = flat_masks.topk(int(keep_num))\n",
    "global_masks = torch.zeros_like(flat_masks)\n",
    "global_masks[indices] = 1\n",
    "print(indices.sort())\n",
    "# len(indices)\n",
    "print(global_masks[:25])\n",
    "print(global_masks.sum())\n",
    "\n",
    "idx = 0\n",
    "ms = []\n",
    "for i in range(len(masks)):\n",
    "    m = global_masks[idx:idx+masks[i].numel()].reshape(masks[i].size())\n",
    "    idx += masks[i].numel()\n",
    "    print(m.shape)\n",
    "    print(m)\n"
   ]
  },
  {
   "cell_type": "code",
   "execution_count": null,
   "id": "71c954a1",
   "metadata": {},
   "outputs": [],
   "source": [
    "a = torch.tensor([1,2,3])\n",
    "b = torch.tensor([4,5])\n",
    "c = torch.tensor([6,7,8,9])\n",
    "ts = torch.cat([e.flatten() for e in [a,b,c]])\n",
    "print(ts)\n"
   ]
  },
  {
   "cell_type": "code",
   "execution_count": null,
   "id": "8aba2be6",
   "metadata": {},
   "outputs": [],
   "source": [
    "pruned_c = 0.0\n",
    "total = 0.0\n",
    "\n",
    "for name, param in server.model.state_dict().items():\n",
    "    a = param.view(-1).to(device='cpu', copy=True).numpy()\n",
    "    pruned_c +=sum(np.where(a, 0, 1))\n",
    "    total += param.numel()\n",
    "print(f'global model zero params: {pruned_c / total}')"
   ]
  },
  {
   "cell_type": "code",
   "execution_count": null,
   "id": "8968b654",
   "metadata": {},
   "outputs": [],
   "source": [
    "# for name in server.model.state_dict():\n",
    "#     print(name)\n",
    "server.model = server.model.to('cuda:3')\n",
    "params = server.model.cpu().state_dict()\n",
    "print(params['features.0.weight'])\n",
    "\n",
    "print('***********'*3)\n",
    "\n",
    "# params['features.0.weight'] = torch.zeros_like(params['features.0.weight'])\n",
    "params['features.0.weight'][0][0][0] = 2.\n",
    "\n",
    "print(server.model.state_dict()['features.0.weight'])\n",
    "\n",
    "\n",
    "print(params['features.0.weight'])"
   ]
  },
  {
   "cell_type": "code",
   "execution_count": null,
   "id": "c0d24b0c",
   "metadata": {},
   "outputs": [],
   "source": [
    "pruned_c = 0.0\n",
    "total = 0.0\n",
    "for name, param in global_model.state_dict().items():\n",
    "    a = param.view(-1).to(device='cpu', copy=True).numpy()\n",
    "    pruned_c +=sum(np.where(a, 0, 1))\n",
    "    total += param.numel()\n",
    "print(f'global model zero params: {pruned_c / total}')"
   ]
  },
  {
   "cell_type": "code",
   "execution_count": null,
   "id": "27829812",
   "metadata": {},
   "outputs": [],
   "source": [
    "prune_c = 0.\n",
    "total = 0.\n",
    "for name,mask in global_model.mask.items():\n",
    "#     print(mask)\n",
    "    prune_c += sum(np.where(mask.to('cpu', copy=True).view(-1).numpy(), 0, 1))\n",
    "    total += mask.numel()\n",
    "    \n",
    "print(prune_c / total)"
   ]
  },
  {
   "cell_type": "code",
   "execution_count": null,
   "id": "cf3d7b59",
   "metadata": {},
   "outputs": [],
   "source": [
    "1 / 0"
   ]
  },
  {
   "cell_type": "code",
   "execution_count": null,
   "id": "7efb36d1",
   "metadata": {},
   "outputs": [],
   "source": []
  },
  {
   "cell_type": "code",
   "execution_count": null,
   "id": "41a8b1a9",
   "metadata": {},
   "outputs": [],
   "source": [
    "import copy\n",
    "\n",
    "pruned_c = 0.0\n",
    "total = 0.0\n",
    "for name, param in global_model.state_dict().items():\n",
    "    a = param.view(-1).to(device='cpu', copy=True).numpy()\n",
    "    pruned_c +=sum(np.where(a, 0, 1))\n",
    "    total += param.numel()\n",
    "print(f'global model zero params: {pruned_c / total}')\n",
    "\n",
    "gcp_model = copy.deepcopy(global_model)\n",
    "\n",
    "\n",
    "\n",
    "prune_c = 0.\n",
    "total = 0.\n",
    "for name, params in gcp_model.state_dict().items():\n",
    "#     print(name)\n",
    "    prune_c += sum(np.where(params.to('cpu', copy=True).view(-1).numpy(), 0, 1))\n",
    "    total += params.numel()\n",
    "    \n",
    "print(prune_c / total)\n",
    "    \n",
    "# print('*'*10)\n",
    "# for name, mask in global_model.mask.items():\n",
    "#     print(name)"
   ]
  },
  {
   "cell_type": "code",
   "execution_count": null,
   "id": "c8bca0b6",
   "metadata": {},
   "outputs": [],
   "source": [
    "# for name in aggregated_masks:\n",
    "#     print(name)\n",
    "#     print(aggregated_masks[name].dtype)\n",
    "\n",
    "def count_mask(state_dict):\n",
    "    non_zero = 0.\n",
    "    total = 0.\n",
    "    for name in state_dict:\n",
    "        non_zero += torch.count_nonzero(state_dict[name])\n",
    "        total += state_dict[name].numel()\n",
    "    return 1 - non_zero / total\n",
    "# a = aggregated_masks['features.4.weight']\n",
    "print(a.shape)\n",
    "# print(torch.count_nonzero(a))\n",
    "print(count_mask(aggregated_masks))\n",
    "mask = torch.where(a>=1, 1, 0)\n",
    "# print(torch.count_nonzero(mask))\n",
    "print(count_mask(cl_mask_prarms))"
   ]
  },
  {
   "cell_type": "code",
   "execution_count": null,
   "id": "8244b8c9",
   "metadata": {},
   "outputs": [],
   "source": [
    "import copy\n",
    "import torch\n",
    "keep_masks = {0: [torch.Tensor([0, 1, 0, 1, 1])], 1: [torch.Tensor([1, 1, 0, 0, 1])]}\n",
    "\n",
    "model_list = [[2, torch.Tensor([1,2,3,4,5])], [3, torch.Tensor([1,2,3,4,5])]]\n",
    "\n",
    "masks = copy.deepcopy(keep_masks)\n",
    "for c, m in masks.items():\n",
    "    for i in range(len(m)):\n",
    "        m[i] *= model_list[c][0]\n",
    "    \n",
    "print(masks)\n",
    "\n",
    "total_masks = copy.deepcopy(masks)\n",
    "for c,m in total_masks.items():\n",
    "    if c!= 0:\n",
    "        for i in range(len(m)):\n",
    "            total_masks[0][i] += m[i]\n",
    "        \n",
    "print(total_masks)\n",
    "\n",
    "for c, m in masks.items():\n",
    "    for i in range(len(m)):\n",
    "        m[i] /= total_masks[0][i]\n",
    "        masks[c][i] = torch.where(torch.isnan(m[i]), torch.full_like(m[i], 0), m[i])\n",
    "#     print(torch.isnan(m))\n",
    "print(masks)\n",
    "#     m /= sum(model_list[i][0] for i in range(len(model_list)))\n",
    "\n",
    "# print(masks[0] * model_list[0][1])\n",
    "model_list[0][1] *= masks[0]\n",
    "# print(model_list[0][1])"
   ]
  },
  {
   "cell_type": "code",
   "execution_count": null,
   "id": "fb781364",
   "metadata": {},
   "outputs": [],
   "source": [
    "import numpy as np\n",
    "\n",
    "list_tensor = [torch.Tensor([1,2]), torch.Tensor([2,3])]\n",
    "t = torch.stack(list_tensor)\n",
    "list_tensor *= 2\n",
    "list_tensor\n",
    "# print(t)\n",
    "# a = torch.from_numpy(np.asarray(list_tensor))\n",
    "# print(a)\n",
    "# torch.cat(list_tensor, 1)"
   ]
  },
  {
   "cell_type": "code",
   "execution_count": null,
   "id": "e60fc21d",
   "metadata": {},
   "outputs": [],
   "source": [
    "a = torch.Tensor([2,3]).type(torch.float64)\n",
    "b = torch.Tensor([1,2]).type(torch.float64)\n",
    "print(a.dtype == b.dtype)\n",
    "b.dtype"
   ]
  },
  {
   "cell_type": "code",
   "execution_count": null,
   "id": "b8e4a56f",
   "metadata": {},
   "outputs": [],
   "source": [
    "\n",
    "model = nn.Sequential(\n",
    "          nn.Linear(6, 2, bias=False),\n",
    "          nn.Sigmoid(),\n",
    "        )\n",
    "input = torch.randn(6)\n",
    "target = torch.randn(2)\n",
    "optimizer = torch.optim.SGD(model.parameters(), lr=0.01, weight_decay=0.1)\n",
    "# optimizer = torch.optim.SGD(model.parameters(), lr=0.01)\n",
    "criterion = nn.MSELoss()\n",
    "\n",
    "\n",
    "\n",
    "output = model(input)\n",
    "loss = criterion(output, target)\n",
    "loss.backward()\n",
    "\n",
    "print(list(model.parameters())[0].grad)\n",
    "optimizer.zero_grad() \n",
    "print(list(model.parameters())[0].grad)\n",
    "\n",
    "\n",
    "print(\"before step: \", list(model.parameters()))\n",
    "optimizer.step()\n",
    "print(\"after step: \", list(model.parameters()))"
   ]
  },
  {
   "cell_type": "code",
   "execution_count": null,
   "id": "95506969",
   "metadata": {},
   "outputs": [],
   "source": [
    "target_keep_ratio = 0.2\n",
    "num_pruning_steps = 2\n",
    "\n",
    "keep_ratio_steps = [1 - ((x + 1) * (1 - target_keep_ratio) / num_pruning_steps) for x in range(num_pruning_steps)]\n",
    "keep_ratio_steps"
   ]
  }
 ],
 "metadata": {
  "kernelspec": {
   "display_name": "Python 3 (ipykernel)",
   "language": "python",
   "name": "python3"
  },
  "language_info": {
   "codemirror_mode": {
    "name": "ipython",
    "version": 3
   },
   "file_extension": ".py",
   "mimetype": "text/x-python",
   "name": "python",
   "nbconvert_exporter": "python",
   "pygments_lexer": "ipython3",
   "version": "3.7.4"
  }
 },
 "nbformat": 4,
 "nbformat_minor": 5
}
