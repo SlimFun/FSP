{
 "cells": [
  {
   "cell_type": "code",
   "execution_count": 8,
   "id": "ee4b68f6",
   "metadata": {},
   "outputs": [
    {
     "name": "stdout",
     "output_type": "stream",
     "text": [
      "183\n"
     ]
    }
   ],
   "source": [
    "\n",
    "\n",
    "total_clients = 400\n",
    "with open('output.log', 'r') as f:\n",
    "    accuracies = []\n",
    "    for c in range(total_clients):\n",
    "        a = f.readline()\n",
    "        results = a.split(',')\n",
    "        if float(results[15]) != 0.:\n",
    "            accuracies.append(float(results[15]))\n",
    "    print(len(accuracies))"
   ]
  }
 ],
 "metadata": {
  "kernelspec": {
   "display_name": "Python 3 (ipykernel)",
   "language": "python",
   "name": "python3"
  },
  "language_info": {
   "codemirror_mode": {
    "name": "ipython",
    "version": 3
   },
   "file_extension": ".py",
   "mimetype": "text/x-python",
   "name": "python",
   "nbconvert_exporter": "python",
   "pygments_lexer": "ipython3",
   "version": "3.7.4"
  }
 },
 "nbformat": 4,
 "nbformat_minor": 5
}
