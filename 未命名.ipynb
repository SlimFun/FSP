{
 "cells": [
  {
   "cell_type": "code",
   "execution_count": 1,
   "id": "46f98026",
   "metadata": {},
   "outputs": [],
   "source": [
    "'''Train CIFAR10 with PyTorch.'''\n",
    "import torch\n",
    "import torch.nn as nn\n",
    "import torch.optim as optim\n",
    "import torch.nn.functional as F\n",
    "import torch.backends.cudnn as cudnn\n",
    "\n",
    "import torchvision\n",
    "import torchvision.transforms as transforms\n",
    "\n",
    "import os\n",
    "import argparse\n",
    "\n",
    "from models.model_base import ModelBase"
   ]
  },
  {
   "cell_type": "code",
   "execution_count": 2,
   "id": "0c3dda96",
   "metadata": {},
   "outputs": [],
   "source": [
    "masks = torch.load('masks.pt')"
   ]
  },
  {
   "cell_type": "code",
   "execution_count": 3,
   "id": "279c9d9b",
   "metadata": {},
   "outputs": [
    {
     "name": "stdout",
     "output_type": "stream",
     "text": [
      "tensor(0.4392, device='cuda:1')\n",
      "tensor(0.2677, device='cuda:1')\n",
      "tensor(0.1470, device='cuda:1')\n",
      "tensor(0.0732, device='cuda:1')\n",
      "tensor(0.0318, device='cuda:1')\n",
      "tensor(0.0091, device='cuda:1')\n",
      "tensor(0.0070, device='cuda:1')\n",
      "tensor(0.0043, device='cuda:1')\n",
      "tensor(0.0080, device='cuda:1')\n",
      "tensor(0.0001, device='cuda:1')\n",
      "tensor(0.0041, device='cuda:1')\n"
     ]
    }
   ],
   "source": [
    "def check_masks(masks):\n",
    "    for m in masks.values():\n",
    "        print(m.mean())\n",
    "#     total = 0.\n",
    "#     mc = 0.\n",
    "#     for m in masks:\n",
    "#         total += m.numel()\n",
    "#         mc += m.sum()\n",
    "\n",
    "#     print(float(mc) / total)\n",
    "check_masks(masks)"
   ]
  },
  {
   "cell_type": "code",
   "execution_count": null,
   "id": "cdfb2846",
   "metadata": {},
   "outputs": [],
   "source": []
  }
 ],
 "metadata": {
  "kernelspec": {
   "display_name": "Python 3 (ipykernel)",
   "language": "python",
   "name": "python3"
  },
  "language_info": {
   "codemirror_mode": {
    "name": "ipython",
    "version": 3
   },
   "file_extension": ".py",
   "mimetype": "text/x-python",
   "name": "python",
   "nbconvert_exporter": "python",
   "pygments_lexer": "ipython3",
   "version": "3.7.4"
  }
 },
 "nbformat": 4,
 "nbformat_minor": 5
}
