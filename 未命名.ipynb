{
 "cells": [
  {
   "cell_type": "code",
   "execution_count": 1,
   "id": "22dc986e",
   "metadata": {},
   "outputs": [],
   "source": [
    "from models.models import all_models"
   ]
  },
  {
   "cell_type": "code",
   "execution_count": 2,
   "id": "1fcf3151",
   "metadata": {},
   "outputs": [],
   "source": [
    "net = all_models['VGG11_BN']()"
   ]
  },
  {
   "cell_type": "code",
   "execution_count": 3,
   "id": "dd9a699a",
   "metadata": {},
   "outputs": [
    {
     "name": "stdout",
     "output_type": "stream",
     "text": [
      "0\n",
      "weight\n",
      "bias\n",
      "1\n",
      "weight\n",
      "bias\n",
      "2\n",
      "3\n",
      "4\n",
      "weight\n",
      "bias\n",
      "5\n",
      "weight\n",
      "bias\n",
      "6\n",
      "7\n",
      "8\n",
      "weight\n",
      "bias\n",
      "9\n",
      "weight\n",
      "bias\n",
      "10\n",
      "11\n",
      "weight\n",
      "bias\n",
      "12\n",
      "weight\n",
      "bias\n",
      "13\n",
      "14\n",
      "15\n",
      "weight\n",
      "bias\n",
      "16\n",
      "weight\n",
      "bias\n",
      "17\n",
      "18\n",
      "weight\n",
      "bias\n",
      "19\n",
      "weight\n",
      "bias\n",
      "20\n",
      "21\n",
      "22\n",
      "weight\n",
      "bias\n",
      "23\n",
      "weight\n",
      "bias\n",
      "24\n",
      "25\n",
      "weight\n",
      "bias\n",
      "26\n",
      "weight\n",
      "bias\n",
      "27\n",
      "28\n",
      "fc1\n",
      "weight\n",
      "bias\n",
      "relu1\n",
      "bn1\n",
      "weight\n",
      "bias\n",
      "fc2\n",
      "weight\n",
      "bias\n",
      "relu2\n",
      "bn2\n",
      "weight\n",
      "bias\n",
      "fc3\n",
      "weight\n",
      "bias\n"
     ]
    }
   ],
   "source": [
    "for i, (name, layer) in enumerate(net.named_children()):\n",
    "    for i, (n, l) in enumerate(layer.named_children()):\n",
    "        if \n",
    "        for pname, param in l.named_parameters():\n",
    "            print(pname)"
   ]
  },
  {
   "cell_type": "code",
   "execution_count": 4,
   "id": "2df17fc2",
   "metadata": {},
   "outputs": [
    {
     "data": {
      "text/plain": [
       "True"
      ]
     },
     "execution_count": 4,
     "metadata": {},
     "output_type": "execute_result"
    }
   ],
   "source": [
    "from models.vgg import VGG\n",
    "isinstance(net, VGG)"
   ]
  },
  {
   "cell_type": "code",
   "execution_count": 5,
   "id": "33141d3c",
   "metadata": {},
   "outputs": [],
   "source": [
    "net2 = all_models['CNNNet']()"
   ]
  },
  {
   "cell_type": "code",
   "execution_count": 7,
   "id": "5feb0c5c",
   "metadata": {},
   "outputs": [
    {
     "name": "stdout",
     "output_type": "stream",
     "text": [
      "conv1\n",
      "weight\n",
      "bias\n",
      "conv2\n",
      "weight\n",
      "bias\n",
      "fc1\n",
      "weight\n",
      "bias\n",
      "fc2\n",
      "weight\n",
      "bias\n"
     ]
    }
   ],
   "source": [
    "for i, (name, layer) in enumerate(net2.named_children()):\n",
    "    print(name)\n",
    "    for pname, param in layer.named_parameters():\n",
    "        print(pname)"
   ]
  },
  {
   "cell_type": "code",
   "execution_count": 25,
   "id": "4a44d540",
   "metadata": {},
   "outputs": [
    {
     "name": "stdout",
     "output_type": "stream",
     "text": [
      "features.0\n",
      "features.4\n",
      "features.8\n",
      "features.11\n",
      "features.15\n",
      "features.18\n",
      "features.22\n",
      "features.25\n",
      "classifier.fc1\n",
      "classifier.fc2\n",
      "classifier.fc3\n"
     ]
    }
   ],
   "source": [
    "import torch.nn as nn\n",
    "\n",
    "prunable_layers = filter(\n",
    "        lambda name, layer: isinstance(layer, nn.Conv2d) or isinstance(\n",
    "            layer, nn.Linear), net.named_modules())\n",
    "for name,layer in net.named_modules():\n",
    "    if isinstance(layer, nn.Conv2d) or isinstance(\n",
    "            layer, nn.Linear):\n",
    "        print(name)"
   ]
  }
 ],
 "metadata": {
  "kernelspec": {
   "display_name": "Python 3 (ipykernel)",
   "language": "python",
   "name": "python3"
  },
  "language_info": {
   "codemirror_mode": {
    "name": "ipython",
    "version": 3
   },
   "file_extension": ".py",
   "mimetype": "text/x-python",
   "name": "python",
   "nbconvert_exporter": "python",
   "pygments_lexer": "ipython3",
   "version": "3.7.4"
  }
 },
 "nbformat": 4,
 "nbformat_minor": 5
}
