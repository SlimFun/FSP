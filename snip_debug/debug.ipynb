{
 "cells": [
  {
   "cell_type": "code",
   "execution_count": 2,
   "id": "6d9745c0",
   "metadata": {},
   "outputs": [],
   "source": [
    "import torch\n",
    "import sys, os\n",
    "import numpy as np"
   ]
  },
  {
   "cell_type": "code",
   "execution_count": 114,
   "id": "e5bd5135",
   "metadata": {},
   "outputs": [
    {
     "data": {
      "text/plain": [
       "<All keys matched successfully>"
      ]
     },
     "execution_count": 114,
     "metadata": {},
     "output_type": "execute_result"
    }
   ],
   "source": [
    "init_model = vgg11_bn()\n",
    "init_model.load_state_dict(torch.load('./debug/1_model.pt'))\n",
    "\n",
    "# comp_model = resnet56(10)\n",
    "# comp_model = WRN(28, 4)\n",
    "comp_model = vgg11_bn()\n",
    "comp_model.load_state_dict(torch.load('./debug/0_model.pt'))"
   ]
  },
  {
   "cell_type": "code",
   "execution_count": 115,
   "id": "899a2f4c",
   "metadata": {},
   "outputs": [
    {
     "name": "stdout",
     "output_type": "stream",
     "text": [
      "0.6849318392846391\n"
     ]
    }
   ],
   "source": [
    "count = 0.\n",
    "total = 0.\n",
    "for param_tensor in init_model.state_dict():\n",
    "    # print(comp_model.state_dict()[param_tensor])p\n",
    "    # if init_model.state_dict()[param_tensor].type() == 'torch.LongTensor':\n",
    "    #     print(param_tensor)\n",
    "    # print(comp_model.state_dict()[param_tensor].type())\n",
    "\n",
    "    diff_params = init_model.state_dict()[param_tensor] - comp_model.state_dict()[param_tensor]\n",
    "    diff_params = diff_params.view(-1).numpy()\n",
    "\n",
    "    # diff_params = init_model.state_dict()[param_tensor].view(-1).numpy()\n",
    "\n",
    "    # print(diff_params)\n",
    "    count += sum(np.where(diff_params, 0, 1))\n",
    "    total += np.size(diff_params)\n",
    "    # print(diff_params)\n",
    "    # break\n",
    "print(count / total)"
   ]
  },
  {
   "cell_type": "code",
   "execution_count": 1,
   "id": "bfd2c7ff",
   "metadata": {},
   "outputs": [],
   "source": [
    "import json\n",
    "import numpy as np\n",
    "from collections import Counter\n",
    "import matplotlib as plt"
   ]
  },
  {
   "cell_type": "code",
   "execution_count": 2,
   "id": "be961cb0",
   "metadata": {},
   "outputs": [
    {
     "ename": "FileNotFoundError",
     "evalue": "[Errno 2] No such file or directory: './snip_debug/0_keep_masks.txt'",
     "output_type": "error",
     "traceback": [
      "\u001b[0;31m---------------------------------------------------------------------------\u001b[0m",
      "\u001b[0;31mFileNotFoundError\u001b[0m                         Traceback (most recent call last)",
      "\u001b[0;32m/tmp/ipykernel_13990/3819715337.py\u001b[0m in \u001b[0;36m<module>\u001b[0;34m\u001b[0m\n\u001b[1;32m      3\u001b[0m \u001b[0mms\u001b[0m \u001b[0;34m=\u001b[0m \u001b[0;34m[\u001b[0m\u001b[0;34m]\u001b[0m\u001b[0;34m\u001b[0m\u001b[0;34m\u001b[0m\u001b[0m\n\u001b[1;32m      4\u001b[0m \u001b[0;32mfor\u001b[0m \u001b[0mi\u001b[0m \u001b[0;32min\u001b[0m \u001b[0mrange\u001b[0m\u001b[0;34m(\u001b[0m\u001b[0;36m10\u001b[0m\u001b[0;34m)\u001b[0m\u001b[0;34m:\u001b[0m\u001b[0;34m\u001b[0m\u001b[0;34m\u001b[0m\u001b[0m\n\u001b[0;32m----> 5\u001b[0;31m     \u001b[0;32mwith\u001b[0m \u001b[0mopen\u001b[0m\u001b[0;34m(\u001b[0m\u001b[0;34mf'./snip_debug/{i}_keep_masks.txt'\u001b[0m\u001b[0;34m,\u001b[0m \u001b[0;34m'r'\u001b[0m\u001b[0;34m)\u001b[0m \u001b[0;32mas\u001b[0m \u001b[0mf\u001b[0m\u001b[0;34m:\u001b[0m\u001b[0;34m\u001b[0m\u001b[0;34m\u001b[0m\u001b[0m\n\u001b[0m\u001b[1;32m      6\u001b[0m         \u001b[0;31m# for j in range(20):\u001b[0m\u001b[0;34m\u001b[0m\u001b[0;34m\u001b[0m\u001b[0;34m\u001b[0m\u001b[0m\n\u001b[1;32m      7\u001b[0m             \u001b[0;31m# if j < 18:\u001b[0m\u001b[0;34m\u001b[0m\u001b[0;34m\u001b[0m\u001b[0;34m\u001b[0m\u001b[0m\n",
      "\u001b[0;31mFileNotFoundError\u001b[0m: [Errno 2] No such file or directory: './snip_debug/0_keep_masks.txt'"
     ]
    }
   ],
   "source": [
    "\n",
    "\n",
    "# for r in range(1, 3):\n",
    "r = 1\n",
    "ms = []\n",
    "for i in range(10):\n",
    "    with open(f'./snip_debug/{i}_keep_masks.txt', 'r') as f:\n",
    "        # for j in range(20):\n",
    "            # if j < 18:\n",
    "            #     f.readline()\n",
    "            # else:\n",
    "        for j in range(r):\n",
    "#             if j < 1:\n",
    "#                 f.readline()\n",
    "#             else: \n",
    "            masks_str = f.readline()\n",
    "            masks_list = json.loads(masks_str)\n",
    "            # print(masks_list)\n",
    "            # print(len(masks_list))\n",
    "            ms.append(np.array(masks_list))\n",
    "\n",
    "for i in range(1, len(ms)):\n",
    "    ms[0] += ms[i]\n",
    "\n",
    "total = float(len(ms[0]))\n",
    "# print(ms[0])\n",
    "for k,v in Counter(ms[0]).items():\n",
    "#     if k == 0:\n",
    "    print(f'r_{r}: {k}, {v / total}')\n",
    "# print(Counter(ms[0]))\n",
    "# print(np.array(list(Counter(ms[0]).values())) / total)\n",
    "# c = Counter(ms[0])\n",
    "# all_count = sum(c.values())\n",
    "# for k,v in c.items():\n",
    "#     c[k] = float(v) / all_count\n",
    "# print(c)"
   ]
  },
  {
   "cell_type": "code",
   "execution_count": 67,
   "id": "26f3edb2",
   "metadata": {},
   "outputs": [
    {
     "data": {
      "text/plain": [
       "array([0.5, 0.5])"
      ]
     },
     "execution_count": 67,
     "metadata": {},
     "output_type": "execute_result"
    }
   ],
   "source": [
    "a = [1,2]\n",
    "c = Counter(a)\n",
    "np.array(list(c.values())) / 2.0"
   ]
  },
  {
   "cell_type": "code",
   "execution_count": 3,
   "id": "6d2f992f",
   "metadata": {},
   "outputs": [
    {
     "ename": "FileNotFoundError",
     "evalue": "[Errno 2] No such file or directory: './snip_debug/global_mask_keep_masks.txt'",
     "output_type": "error",
     "traceback": [
      "\u001b[0;31m---------------------------------------------------------------------------\u001b[0m",
      "\u001b[0;31mFileNotFoundError\u001b[0m                         Traceback (most recent call last)",
      "\u001b[0;32m/tmp/ipykernel_13990/2810060585.py\u001b[0m in \u001b[0;36m<module>\u001b[0;34m\u001b[0m\n\u001b[1;32m      1\u001b[0m \u001b[0mr\u001b[0m \u001b[0;34m=\u001b[0m \u001b[0;36m1\u001b[0m\u001b[0;34m\u001b[0m\u001b[0;34m\u001b[0m\u001b[0m\n\u001b[1;32m      2\u001b[0m \u001b[0mms\u001b[0m \u001b[0;34m=\u001b[0m \u001b[0;34m[\u001b[0m\u001b[0;34m]\u001b[0m\u001b[0;34m\u001b[0m\u001b[0;34m\u001b[0m\u001b[0m\n\u001b[0;32m----> 3\u001b[0;31m \u001b[0;32mwith\u001b[0m \u001b[0mopen\u001b[0m\u001b[0;34m(\u001b[0m\u001b[0;34mf'./snip_debug/global_mask_keep_masks.txt'\u001b[0m\u001b[0;34m,\u001b[0m \u001b[0;34m'r'\u001b[0m\u001b[0;34m)\u001b[0m \u001b[0;32mas\u001b[0m \u001b[0mf\u001b[0m\u001b[0;34m:\u001b[0m\u001b[0;34m\u001b[0m\u001b[0;34m\u001b[0m\u001b[0m\n\u001b[0m\u001b[1;32m      4\u001b[0m     \u001b[0;32mfor\u001b[0m \u001b[0mj\u001b[0m \u001b[0;32min\u001b[0m \u001b[0mrange\u001b[0m\u001b[0;34m(\u001b[0m\u001b[0mr\u001b[0m\u001b[0;34m)\u001b[0m\u001b[0;34m:\u001b[0m\u001b[0;34m\u001b[0m\u001b[0;34m\u001b[0m\u001b[0m\n\u001b[1;32m      5\u001b[0m         \u001b[0mmasks_str\u001b[0m \u001b[0;34m=\u001b[0m \u001b[0mf\u001b[0m\u001b[0;34m.\u001b[0m\u001b[0mreadline\u001b[0m\u001b[0;34m(\u001b[0m\u001b[0;34m)\u001b[0m\u001b[0;34m\u001b[0m\u001b[0;34m\u001b[0m\u001b[0m\n",
      "\u001b[0;31mFileNotFoundError\u001b[0m: [Errno 2] No such file or directory: './snip_debug/global_mask_keep_masks.txt'"
     ]
    }
   ],
   "source": [
    "r = 1\n",
    "ms = []\n",
    "with open(f'./snip_debug/global_mask_keep_masks.txt', 'r') as f:\n",
    "    for j in range(r):\n",
    "        masks_str = f.readline()\n",
    "        masks_list = json.loads(masks_str)\n",
    "        ms.append(np.array(masks_list))\n",
    "\n",
    "total = float(len(ms[0]))\n",
    "for k,v in Counter(ms[0]).items():\n",
    "    print(f'r_{r}: {k}, {v / total}')"
   ]
  }
 ],
 "metadata": {
  "kernelspec": {
   "display_name": "Python 3 (ipykernel)",
   "language": "python",
   "name": "python3"
  },
  "language_info": {
   "codemirror_mode": {
    "name": "ipython",
    "version": 3
   },
   "file_extension": ".py",
   "mimetype": "text/x-python",
   "name": "python",
   "nbconvert_exporter": "python",
   "pygments_lexer": "ipython3",
   "version": "3.7.4"
  }
 },
 "nbformat": 4,
 "nbformat_minor": 5
}
