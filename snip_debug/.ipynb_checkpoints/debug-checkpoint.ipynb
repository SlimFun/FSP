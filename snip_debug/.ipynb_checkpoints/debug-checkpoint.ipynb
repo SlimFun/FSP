{
 "cells": [
  {
   "cell_type": "code",
   "execution_count": 2,
   "id": "6d9745c0",
   "metadata": {},
   "outputs": [],
   "source": [
    "import torch\n",
    "import sys, os\n",
    "import numpy as np"
   ]
  },
  {
   "cell_type": "code",
   "execution_count": 114,
   "id": "e5bd5135",
   "metadata": {},
   "outputs": [
    {
     "data": {
      "text/plain": [
       "<All keys matched successfully>"
      ]
     },
     "execution_count": 114,
     "metadata": {},
     "output_type": "execute_result"
    }
   ],
   "source": [
    "init_model = vgg11_bn()\n",
    "init_model.load_state_dict(torch.load('./debug/1_model.pt'))\n",
    "\n",
    "# comp_model = resnet56(10)\n",
    "# comp_model = WRN(28, 4)\n",
    "comp_model = vgg11_bn()\n",
    "comp_model.load_state_dict(torch.load('./debug/0_model.pt'))"
   ]
  },
  {
   "cell_type": "code",
   "execution_count": 115,
   "id": "899a2f4c",
   "metadata": {},
   "outputs": [
    {
     "name": "stdout",
     "output_type": "stream",
     "text": [
      "0.6849318392846391\n"
     ]
    }
   ],
   "source": [
    "count = 0.\n",
    "total = 0.\n",
    "for param_tensor in init_model.state_dict():\n",
    "    # print(comp_model.state_dict()[param_tensor])p\n",
    "    # if init_model.state_dict()[param_tensor].type() == 'torch.LongTensor':\n",
    "    #     print(param_tensor)\n",
    "    # print(comp_model.state_dict()[param_tensor].type())\n",
    "\n",
    "    diff_params = init_model.state_dict()[param_tensor] - comp_model.state_dict()[param_tensor]\n",
    "    diff_params = diff_params.view(-1).numpy()\n",
    "\n",
    "    # diff_params = init_model.state_dict()[param_tensor].view(-1).numpy()\n",
    "\n",
    "    # print(diff_params)\n",
    "    count += sum(np.where(diff_params, 0, 1))\n",
    "    total += np.size(diff_params)\n",
    "    # print(diff_params)\n",
    "    # break\n",
    "print(count / total)"
   ]
  },
  {
   "cell_type": "code",
   "execution_count": 1,
   "id": "bfd2c7ff",
   "metadata": {},
   "outputs": [],
   "source": [
    "import json\n",
    "import numpy as np\n",
    "from collections import Counter\n",
    "import matplotlib as plt"
   ]
  },
  {
   "cell_type": "code",
   "execution_count": 2,
   "id": "be961cb0",
   "metadata": {},
   "outputs": [
    {
     "name": "stdout",
     "output_type": "stream",
     "text": [
      "r_1: 10.0, 0.00019462127131497907\n",
      "r_1: 9.0, 0.0007876159725277251\n",
      "r_1: 8.0, 0.0021489389293429372\n",
      "r_1: 6.0, 0.008664596451716688\n",
      "r_1: 7.0, 0.004564828068470575\n",
      "r_1: 5.0, 0.015580781883006455\n",
      "r_1: 4.0, 0.02818797234387619\n",
      "r_1: 3.0, 0.054968454323403304\n",
      "r_1: 2.0, 0.1232394828593753\n",
      "r_1: 1.0, 0.28779048532820306\n",
      "r_1: 0.0, 0.47387222256876277\n"
     ]
    }
   ],
   "source": [
    "\n",
    "\n",
    "# for r in range(1, 3):\n",
    "r = 1\n",
    "ms = []\n",
    "for i in range(10):\n",
    "    with open(f'./snip_debug/{i}_keep_masks.txt', 'r') as f:\n",
    "        # for j in range(20):\n",
    "            # if j < 18:\n",
    "            #     f.readline()\n",
    "            # else:\n",
    "        for j in range(r):\n",
    "#             if j < 1:\n",
    "#                 f.readline()\n",
    "#             else: \n",
    "            masks_str = f.readline()\n",
    "            masks_list = json.loads(masks_str)\n",
    "            # print(masks_list)\n",
    "            # print(len(masks_list))\n",
    "            ms.append(np.array(masks_list))\n",
    "\n",
    "for i in range(1, len(ms)):\n",
    "    ms[0] += ms[i]\n",
    "\n",
    "total = float(len(ms[0]))\n",
    "# print(ms[0])\n",
    "for k,v in Counter(ms[0]).items():\n",
    "#     if k == 0:\n",
    "    print(f'r_{r}: {k}, {v / total}')\n",
    "# print(Counter(ms[0]))\n",
    "# print(np.array(list(Counter(ms[0]).values())) / total)\n",
    "# c = Counter(ms[0])\n",
    "# all_count = sum(c.values())\n",
    "# for k,v in c.items():\n",
    "#     c[k] = float(v) / all_count\n",
    "# print(c)"
   ]
  },
  {
   "cell_type": "code",
   "execution_count": 67,
   "id": "26f3edb2",
   "metadata": {},
   "outputs": [
    {
     "data": {
      "text/plain": [
       "array([0.5, 0.5])"
      ]
     },
     "execution_count": 67,
     "metadata": {},
     "output_type": "execute_result"
    }
   ],
   "source": [
    "a = [1,2]\n",
    "c = Counter(a)\n",
    "np.array(list(c.values())) / 2.0"
   ]
  },
  {
   "cell_type": "code",
   "execution_count": 17,
   "id": "6d2f992f",
   "metadata": {},
   "outputs": [
    {
     "name": "stdout",
     "output_type": "stream",
     "text": [
      "r_1: 1.0, 0.2596268278189614\n",
      "r_1: 0.0, 0.4735222736196561\n",
      "r_1: 7.0, 0.006557926348826978\n",
      "r_1: 3.0, 0.06312828711941641\n",
      "r_1: 8.0, 0.003601057787641416\n",
      "r_1: 5.0, 0.01904887753695034\n",
      "r_1: 9.0, 0.0018031963440337756\n",
      "r_1: 6.0, 0.011201546792822014\n",
      "r_1: 4.0, 0.033304962606451785\n",
      "r_1: 10.0, 0.0006437788494999967\n",
      "r_1: 11.0, 0.00013203878554685192\n",
      "r_1: 2.0, 0.12742922639019297\n"
     ]
    }
   ],
   "source": [
    "r = 1\n",
    "ms = []\n",
    "with open(f'./snip_debug/global_mask_keep_masks.txt', 'r') as f:\n",
    "    for j in range(r):\n",
    "        masks_str = f.readline()\n",
    "        masks_list = json.loads(masks_str)\n",
    "        ms.append(np.array(masks_list))\n",
    "\n",
    "total = float(len(ms[0]))\n",
    "for k,v in Counter(ms[0]).items():\n",
    "    print(f'r_{r}: {k}, {v / total}')"
   ]
  }
 ],
 "metadata": {
  "kernelspec": {
   "display_name": "Python 3 (ipykernel)",
   "language": "python",
   "name": "python3"
  },
  "language_info": {
   "codemirror_mode": {
    "name": "ipython",
    "version": 3
   },
   "file_extension": ".py",
   "mimetype": "text/x-python",
   "name": "python",
   "nbconvert_exporter": "python",
   "pygments_lexer": "ipython3",
   "version": "3.7.4"
  }
 },
 "nbformat": 4,
 "nbformat_minor": 5
}
