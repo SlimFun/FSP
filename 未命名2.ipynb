{
 "cells": [
  {
   "cell_type": "code",
   "execution_count": 1,
   "id": "308d9594",
   "metadata": {},
   "outputs": [],
   "source": [
    "import models_bak as models\n",
    "from models_bak import all_models, needs_mask, initialize_mask"
   ]
  },
  {
   "cell_type": "code",
   "execution_count": 3,
   "id": "29b56307",
   "metadata": {},
   "outputs": [],
   "source": [
    "net = all_models['VGG11_BN']()"
   ]
  },
  {
   "cell_type": "code",
   "execution_count": 8,
   "id": "2dec6e42",
   "metadata": {},
   "outputs": [
    {
     "name": "stdout",
     "output_type": "stream",
     "text": [
      "weight\n",
      "weight\n",
      "weight\n",
      "weight\n",
      "weight\n",
      "weight\n",
      "weight\n",
      "weight\n",
      "weight\n"
     ]
    }
   ],
   "source": [
    "# layers_to_prune = (layer for _, layer in net.named_children())\n",
    "layers_to_prune = []\n",
    "for name, layer in net.named_children():\n",
    "    if 'bn' not in name:\n",
    "        layers_to_prune.append(layer)\n",
    "\n",
    "for layer in layers_to_prune:\n",
    "        for name, param in layer.named_parameters():\n",
    "            if name.endswith('weight'):\n",
    "                print(name)\n",
    "# net.layer_prune(0.8)"
   ]
  },
  {
   "cell_type": "code",
   "execution_count": 1,
   "id": "c5571d4d",
   "metadata": {},
   "outputs": [],
   "source": [
    "import numpy as np\n",
    "def decay(t, alpha=0.3, t_end=50):\n",
    "    return alpha/2 * (1 + np.cos(t*np.pi / t_end))"
   ]
  },
  {
   "cell_type": "code",
   "execution_count": 2,
   "id": "afe12e40",
   "metadata": {},
   "outputs": [
    {
     "name": "stdout",
     "output_type": "stream",
     "text": [
      "0.3\n",
      "0.29970400926424073\n",
      "0.2988172051971717\n",
      "0.29734308760930334\n",
      "0.29528747416929463\n",
      "0.29265847744427304\n",
      "0.2894664728832377\n",
      "0.2857240578699029\n",
      "0.2814460020065795\n",
      "0.27664918882530226\n",
      "0.27135254915624213\n",
      "0.2655769864163684\n",
      "0.2593452941132117\n",
      "0.2526820658893033\n",
      "0.24561359846230346\n",
      "0.238167787843871\n",
      "0.23037401924684947\n",
      "0.22226305111525727\n",
      "0.2138668937347609\n",
      "0.2052186829027017\n",
      "0.19635254915624212\n",
      "0.1873034830747282\n",
      "0.17810719718785872\n",
      "0.16879998503464566\n",
      "0.159418577929397\n",
      "0.15\n",
      "0.14058142207060298\n",
      "0.13120001496535438\n",
      "0.12189280281214131\n",
      "0.11269651692527177\n",
      "0.10364745084375793\n",
      "0.09478131709729834\n",
      "0.0861331062652391\n",
      "0.07773694888474268\n",
      "0.06962598075315046\n",
      "0.061832212156129045\n",
      "0.054386401537696534\n",
      "0.04731793411069669\n",
      "0.0406547058867883\n",
      "0.034423013583631625\n",
      "0.0286474508437579\n",
      "0.023350811174697773\n",
      "0.018553997993420463\n",
      "0.014275942130097096\n",
      "0.010533527116762297\n",
      "0.00734152255572697\n",
      "0.004712525830705355\n",
      "0.0026569123906966916\n",
      "0.0011827948028283353\n",
      "0.00029599073575926617\n"
     ]
    }
   ],
   "source": [
    "for t in range(50):\n",
    "    print(decay(t))"
   ]
  }
 ],
 "metadata": {
  "kernelspec": {
   "display_name": "Python 3 (ipykernel)",
   "language": "python",
   "name": "python3"
  },
  "language_info": {
   "codemirror_mode": {
    "name": "ipython",
    "version": 3
   },
   "file_extension": ".py",
   "mimetype": "text/x-python",
   "name": "python",
   "nbconvert_exporter": "python",
   "pygments_lexer": "ipython3",
   "version": "3.7.4"
  }
 },
 "nbformat": 4,
 "nbformat_minor": 5
}
