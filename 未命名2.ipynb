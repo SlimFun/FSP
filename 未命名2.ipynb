{
 "cells": [
  {
   "cell_type": "code",
   "execution_count": 1,
   "id": "41b0eb7e",
   "metadata": {},
   "outputs": [],
   "source": [
    "import models_bak as models\n",
    "from models_bak import all_models, needs_mask, initialize_mask"
   ]
  },
  {
   "cell_type": "code",
   "execution_count": 3,
   "id": "5bf39680",
   "metadata": {},
   "outputs": [],
   "source": [
    "net = all_models['VGG11_BN']()"
   ]
  },
  {
   "cell_type": "code",
   "execution_count": 8,
   "id": "ea38d6f5",
   "metadata": {},
   "outputs": [
    {
     "name": "stdout",
     "output_type": "stream",
     "text": [
      "weight\n",
      "weight\n",
      "weight\n",
      "weight\n",
      "weight\n",
      "weight\n",
      "weight\n",
      "weight\n",
      "weight\n"
     ]
    }
   ],
   "source": [
    "# layers_to_prune = (layer for _, layer in net.named_children())\n",
    "layers_to_prune = []\n",
    "for name, layer in net.named_children():\n",
    "    if 'bn' not in name:\n",
    "        layers_to_prune.append(layer)\n",
    "\n",
    "for layer in layers_to_prune:\n",
    "        for name, param in layer.named_parameters():\n",
    "            if name.endswith('weight'):\n",
    "                print(name)\n",
    "# net.layer_prune(0.8)"
   ]
  },
  {
   "cell_type": "code",
   "execution_count": null,
   "id": "64b9f657",
   "metadata": {},
   "outputs": [],
   "source": []
  }
 ],
 "metadata": {
  "kernelspec": {
   "display_name": "Python 3 (ipykernel)",
   "language": "python",
   "name": "python3"
  },
  "language_info": {
   "codemirror_mode": {
    "name": "ipython",
    "version": 3
   },
   "file_extension": ".py",
   "mimetype": "text/x-python",
   "name": "python",
   "nbconvert_exporter": "python",
   "pygments_lexer": "ipython3",
   "version": "3.7.4"
  }
 },
 "nbformat": 4,
 "nbformat_minor": 5
}
