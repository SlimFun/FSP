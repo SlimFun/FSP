{
 "cells": [
  {
   "cell_type": "code",
   "execution_count": 1,
   "id": "be533575",
   "metadata": {},
   "outputs": [],
   "source": [
    "import models_bak as models\n",
    "from models_bak import all_models, needs_mask, initialize_mask"
   ]
  },
  {
   "cell_type": "code",
   "execution_count": 3,
   "id": "5dd9699a",
   "metadata": {},
   "outputs": [],
   "source": [
    "net = all_models['VGG11_BN']()"
   ]
  },
  {
   "cell_type": "code",
   "execution_count": 8,
   "id": "7ac70b75",
   "metadata": {},
   "outputs": [
    {
     "name": "stdout",
     "output_type": "stream",
     "text": [
      "weight\n",
      "weight\n",
      "weight\n",
      "weight\n",
      "weight\n",
      "weight\n",
      "weight\n",
      "weight\n",
      "weight\n"
     ]
    }
   ],
   "source": [
    "# layers_to_prune = (layer for _, layer in net.named_children())\n",
    "layers_to_prune = []\n",
    "for name, layer in net.named_children():\n",
    "    if 'bn' not in name:\n",
    "        layers_to_prune.append(layer)\n",
    "\n",
    "for layer in layers_to_prune:\n",
    "        for name, param in layer.named_parameters():\n",
    "            if name.endswith('weight'):\n",
    "                print(name)\n",
    "# net.layer_prune(0.8)"
   ]
  },
  {
   "cell_type": "code",
   "execution_count": 1,
   "id": "1ebd2393",
   "metadata": {},
   "outputs": [],
   "source": [
    "import numpy as np\n",
    "def decay(t, alpha=0.3, t_end=50):\n",
    "    return alpha/2 * (1 + np.cos(t*np.pi / t_end))"
   ]
  },
  {
   "cell_type": "code",
   "execution_count": null,
   "id": "dfcd3dbd",
   "metadata": {},
   "outputs": [],
   "source": [
    "for t in range(50):\n",
    "    print(decay(t))"
   ]
  }
 ],
 "metadata": {
  "kernelspec": {
   "display_name": "Python 3 (ipykernel)",
   "language": "python",
   "name": "python3"
  },
  "language_info": {
   "codemirror_mode": {
    "name": "ipython",
    "version": 3
   },
   "file_extension": ".py",
   "mimetype": "text/x-python",
   "name": "python",
   "nbconvert_exporter": "python",
   "pygments_lexer": "ipython3",
   "version": "3.7.4"
  }
 },
 "nbformat": 4,
 "nbformat_minor": 5
}
